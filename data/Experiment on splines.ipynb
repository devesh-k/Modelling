{
 "cells": [
  {
   "cell_type": "code",
   "execution_count": 19,
   "metadata": {
    "collapsed": true
   },
   "outputs": [],
   "source": [
    "import pandas as pd\n",
    "import numpy as np\n",
    "import matplotlib.pyplot as plt\n",
    "from scipy import interpolate\n",
    "%matplotlib inline\n",
    "import matplotlib.pyplot as plt\n",
    "\n",
    "plt.style.use('ggplot')"
   ]
  },
  {
   "cell_type": "code",
   "execution_count": 5,
   "metadata": {
    "collapsed": false
   },
   "outputs": [],
   "source": [
    "# creating a Data set of X and Y values-->Simulated Data\n",
    "x = np.linspace(1 , 100 , endpoint = True)\n",
    "y = np.log(x)\n"
   ]
  },
  {
   "cell_type": "code",
   "execution_count": null,
   "metadata": {
    "collapsed": true
   },
   "outputs": [],
   "source": []
  },
  {
   "cell_type": "code",
   "execution_count": null,
   "metadata": {
    "collapsed": true
   },
   "outputs": [],
   "source": []
  },
  {
   "cell_type": "code",
   "execution_count": null,
   "metadata": {
    "collapsed": true
   },
   "outputs": [],
   "source": []
  },
  {
   "cell_type": "code",
   "execution_count": 6,
   "metadata": {
    "collapsed": false
   },
   "outputs": [],
   "source": [
    "df = pd.DataFrame({'X':x , 'y':y})"
   ]
  },
  {
   "cell_type": "code",
   "execution_count": 7,
   "metadata": {
    "collapsed": false
   },
   "outputs": [
    {
     "data": {
      "text/html": [
       "<div>\n",
       "<table border=\"1\" class=\"dataframe\">\n",
       "  <thead>\n",
       "    <tr style=\"text-align: right;\">\n",
       "      <th></th>\n",
       "      <th>X</th>\n",
       "      <th>y</th>\n",
       "    </tr>\n",
       "  </thead>\n",
       "  <tbody>\n",
       "    <tr>\n",
       "      <th>0</th>\n",
       "      <td>1.000000</td>\n",
       "      <td>0.000000</td>\n",
       "    </tr>\n",
       "    <tr>\n",
       "      <th>1</th>\n",
       "      <td>3.020408</td>\n",
       "      <td>1.105392</td>\n",
       "    </tr>\n",
       "    <tr>\n",
       "      <th>2</th>\n",
       "      <td>5.040816</td>\n",
       "      <td>1.617568</td>\n",
       "    </tr>\n",
       "    <tr>\n",
       "      <th>3</th>\n",
       "      <td>7.061224</td>\n",
       "      <td>1.954618</td>\n",
       "    </tr>\n",
       "    <tr>\n",
       "      <th>4</th>\n",
       "      <td>9.081633</td>\n",
       "      <td>2.206254</td>\n",
       "    </tr>\n",
       "  </tbody>\n",
       "</table>\n",
       "</div>"
      ],
      "text/plain": [
       "          X         y\n",
       "0  1.000000  0.000000\n",
       "1  3.020408  1.105392\n",
       "2  5.040816  1.617568\n",
       "3  7.061224  1.954618\n",
       "4  9.081633  2.206254"
      ]
     },
     "execution_count": 7,
     "metadata": {},
     "output_type": "execute_result"
    }
   ],
   "source": [
    "df.head()"
   ]
  },
  {
   "cell_type": "code",
   "execution_count": 11,
   "metadata": {
    "collapsed": false
   },
   "outputs": [],
   "source": [
    "tck = interpolate.splrep(x, y)"
   ]
  },
  {
   "cell_type": "code",
   "execution_count": 27,
   "metadata": {
    "collapsed": false
   },
   "outputs": [
    {
     "name": "stdout",
     "output_type": "stream",
     "text": [
      "(array([   1.        ,    1.        ,    1.        ,    1.        ,\n",
      "          5.04081633,    7.06122449,    9.08163265,   11.10204082,\n",
      "         13.12244898,   15.14285714,   17.16326531,   19.18367347,\n",
      "         21.20408163,   23.2244898 ,   25.24489796,   27.26530612,\n",
      "         29.28571429,   31.30612245,   33.32653061,   35.34693878,\n",
      "         37.36734694,   39.3877551 ,   41.40816327,   43.42857143,\n",
      "         45.44897959,   47.46938776,   49.48979592,   51.51020408,\n",
      "         53.53061224,   55.55102041,   57.57142857,   59.59183673,\n",
      "         61.6122449 ,   63.63265306,   65.65306122,   67.67346939,\n",
      "         69.69387755,   71.71428571,   73.73469388,   75.75510204,\n",
      "         77.7755102 ,   79.79591837,   81.81632653,   83.83673469,\n",
      "         85.85714286,   87.87755102,   89.89795918,   91.91836735,\n",
      "         93.93877551,   95.95918367,  100.        ,  100.        ,\n",
      "        100.        ,  100.        ]), array([ -1.72132773e-18,   1.04631792e+00,   1.52014804e+00,\n",
      "         1.97035141e+00,   2.21360636e+00,   2.41274707e+00,\n",
      "         2.57817905e+00,   2.72048329e+00,   2.84506146e+00,\n",
      "         2.95589906e+00,   3.05569978e+00,   3.14646398e+00,\n",
      "         3.22968818e+00,   3.30652774e+00,   3.37789121e+00,\n",
      "         3.44450642e+00,   3.50696523e+00,   3.56575544e+00,\n",
      "         3.62128378e+00,   3.67389294e+00,   3.72387435e+00,\n",
      "         3.77147789e+00,   3.81691941e+00,   3.86038669e+00,\n",
      "         3.90204405e+00,   3.94203614e+00,   3.98049094e+00,\n",
      "         4.01752221e+00,   4.05323155e+00,   4.08771007e+00,\n",
      "         4.12103976e+00,   4.15329469e+00,   4.18454199e+00,\n",
      "         4.21484271e+00,   4.24425248e+00,   4.27282220e+00,\n",
      "         4.30059852e+00,   4.32762430e+00,   4.35393904e+00,\n",
      "         4.37957917e+00,   4.40457842e+00,   4.42896804e+00,\n",
      "         4.45277705e+00,   4.47603246e+00,   4.49875940e+00,\n",
      "         4.52098138e+00,   4.54272033e+00,   4.57108895e+00,\n",
      "         4.59170067e+00,   4.60517019e+00,   0.00000000e+00,\n",
      "         0.00000000e+00,   0.00000000e+00,   0.00000000e+00]), 3)\n"
     ]
    }
   ],
   "source": [
    "print tck"
   ]
  },
  {
   "cell_type": "code",
   "execution_count": 23,
   "metadata": {
    "collapsed": false
   },
   "outputs": [],
   "source": [
    "df['y_new'] =  interpolate.splev(x, tck, der=0)\n",
    "df['diff'] = (df.y - df.y_new)\n"
   ]
  },
  {
   "cell_type": "code",
   "execution_count": 24,
   "metadata": {
    "collapsed": false
   },
   "outputs": [
    {
     "data": {
      "text/html": [
       "<div>\n",
       "<table border=\"1\" class=\"dataframe\">\n",
       "  <thead>\n",
       "    <tr style=\"text-align: right;\">\n",
       "      <th></th>\n",
       "      <th>X</th>\n",
       "      <th>y</th>\n",
       "      <th>y_new</th>\n",
       "      <th>diff</th>\n",
       "    </tr>\n",
       "  </thead>\n",
       "  <tbody>\n",
       "    <tr>\n",
       "      <th>0</th>\n",
       "      <td>1.000000</td>\n",
       "      <td>0.000000</td>\n",
       "      <td>-1.721328e-18</td>\n",
       "      <td>1.721328e-18</td>\n",
       "    </tr>\n",
       "    <tr>\n",
       "      <th>1</th>\n",
       "      <td>3.020408</td>\n",
       "      <td>1.105392</td>\n",
       "      <td>1.105392e+00</td>\n",
       "      <td>0.000000e+00</td>\n",
       "    </tr>\n",
       "    <tr>\n",
       "      <th>2</th>\n",
       "      <td>5.040816</td>\n",
       "      <td>1.617568</td>\n",
       "      <td>1.617568e+00</td>\n",
       "      <td>0.000000e+00</td>\n",
       "    </tr>\n",
       "    <tr>\n",
       "      <th>3</th>\n",
       "      <td>7.061224</td>\n",
       "      <td>1.954618</td>\n",
       "      <td>1.954618e+00</td>\n",
       "      <td>2.220446e-16</td>\n",
       "    </tr>\n",
       "    <tr>\n",
       "      <th>4</th>\n",
       "      <td>9.081633</td>\n",
       "      <td>2.206254</td>\n",
       "      <td>2.206254e+00</td>\n",
       "      <td>0.000000e+00</td>\n",
       "    </tr>\n",
       "  </tbody>\n",
       "</table>\n",
       "</div>"
      ],
      "text/plain": [
       "          X         y         y_new          diff\n",
       "0  1.000000  0.000000 -1.721328e-18  1.721328e-18\n",
       "1  3.020408  1.105392  1.105392e+00  0.000000e+00\n",
       "2  5.040816  1.617568  1.617568e+00  0.000000e+00\n",
       "3  7.061224  1.954618  1.954618e+00  2.220446e-16\n",
       "4  9.081633  2.206254  2.206254e+00  0.000000e+00"
      ]
     },
     "execution_count": 24,
     "metadata": {},
     "output_type": "execute_result"
    }
   ],
   "source": [
    "df.head()"
   ]
  },
  {
   "cell_type": "code",
   "execution_count": 20,
   "metadata": {
    "collapsed": false
   },
   "outputs": [
    {
     "data": {
      "text/plain": [
       "[<matplotlib.lines.Line2D at 0x115382990>]"
      ]
     },
     "execution_count": 20,
     "metadata": {},
     "output_type": "execute_result"
    },
    {
     "data": {
      "image/png": "[encoded data removed]",
      "text/plain": [
       "<matplotlib.figure.Figure at 0x118681e50>"
      ]
     },
     "metadata": {},
     "output_type": "display_data"
    }
   ],
   "source": [
    "plt.plot(figsize = (20,10))\n",
    "plt.plot(df.X , df.y , label = 'original')\n"
   ]
  },
  {
   "cell_type": "code",
   "execution_count": 29,
   "metadata": {
    "collapsed": false
   },
   "outputs": [
    {
     "data": {
      "text/plain": [
       "[0, 20, 0, 3]"
      ]
     },
     "execution_count": 29,
     "metadata": {},
     "output_type": "execute_result"
    },
    {
     "data": {
      "image/png": "[encoded data removed]",
      "text/plain": [
       "<matplotlib.figure.Figure at 0x11bc19f90>"
      ]
     },
     "metadata": {},
     "output_type": "display_data"
    }
   ],
   "source": [
    "plt.plot(df.X , df.y_new , label = 'spline')\n",
    "plt.axis([0,20 , 0,3])"
   ]
  },
  {
   "cell_type": "code",
   "execution_count": 32,
   "metadata": {
    "collapsed": false
   },
   "outputs": [
    {
     "data": {
      "text/plain": [
       "<matplotlib.axes._subplots.AxesSubplot at 0x11c1065d0>"
      ]
     },
     "execution_count": 32,
     "metadata": {},
     "output_type": "execute_result"
    },
    {
     "data": {
      "image/png": "[encoded data removed]",
      "text/plain": [
       "<matplotlib.figure.Figure at 0x11c118b50>"
      ]
     },
     "metadata": {},
     "output_type": "display_data"
    }
   ],
   "source": [
    "df[['X' , 'diff']].plot(x = 'X' , y = 'diff' , kind = 'scatter')"
   ]
  },
  {
   "cell_type": "code",
   "execution_count": 38,
   "metadata": {
    "collapsed": false
   },
   "outputs": [
    {
     "data": {
      "text/html": [
       "<div>\n",
       "<table border=\"1\" class=\"dataframe\">\n",
       "  <thead>\n",
       "    <tr style=\"text-align: right;\">\n",
       "      <th></th>\n",
       "      <th>X</th>\n",
       "      <th>y</th>\n",
       "      <th>y_new</th>\n",
       "      <th>diff</th>\n",
       "    </tr>\n",
       "  </thead>\n",
       "  <tbody>\n",
       "    <tr>\n",
       "      <th>0</th>\n",
       "      <td>1.000000</td>\n",
       "      <td>0.000000</td>\n",
       "      <td>-1.721328e-18</td>\n",
       "      <td>1.721328e-18</td>\n",
       "    </tr>\n",
       "    <tr>\n",
       "      <th>1</th>\n",
       "      <td>3.020408</td>\n",
       "      <td>1.105392</td>\n",
       "      <td>1.105392e+00</td>\n",
       "      <td>0.000000e+00</td>\n",
       "    </tr>\n",
       "    <tr>\n",
       "      <th>2</th>\n",
       "      <td>5.040816</td>\n",
       "      <td>1.617568</td>\n",
       "      <td>1.617568e+00</td>\n",
       "      <td>0.000000e+00</td>\n",
       "    </tr>\n",
       "    <tr>\n",
       "      <th>3</th>\n",
       "      <td>7.061224</td>\n",
       "      <td>1.954618</td>\n",
       "      <td>1.954618e+00</td>\n",
       "      <td>2.220446e-16</td>\n",
       "    </tr>\n",
       "    <tr>\n",
       "      <th>4</th>\n",
       "      <td>9.081633</td>\n",
       "      <td>2.206254</td>\n",
       "      <td>2.206254e+00</td>\n",
       "      <td>0.000000e+00</td>\n",
       "    </tr>\n",
       "  </tbody>\n",
       "</table>\n",
       "</div>"
      ],
      "text/plain": [
       "          X         y         y_new          diff\n",
       "0  1.000000  0.000000 -1.721328e-18  1.721328e-18\n",
       "1  3.020408  1.105392  1.105392e+00  0.000000e+00\n",
       "2  5.040816  1.617568  1.617568e+00  0.000000e+00\n",
       "3  7.061224  1.954618  1.954618e+00  2.220446e-16\n",
       "4  9.081633  2.206254  2.206254e+00  0.000000e+00"
      ]
     },
     "execution_count": 38,
     "metadata": {},
     "output_type": "execute_result"
    }
   ],
   "source": [
    "df.head()"
   ]
  },
  {
   "cell_type": "code",
   "execution_count": 44,
   "metadata": {
    "collapsed": false
   },
   "outputs": [
    {
     "data": {
      "text/plain": [
       "1.0"
      ]
     },
     "execution_count": 44,
     "metadata": {},
     "output_type": "execute_result"
    }
   ],
   "source": [
    "df.loc[0 , 'X']"
   ]
  },
  {
   "cell_type": "code",
   "execution_count": 49,
   "metadata": {
    "collapsed": true
   },
   "outputs": [],
   "source": [
    "df.loc[101 , 'X'] = 130"
   ]
  },
  {
   "cell_type": "code",
   "execution_count": 46,
   "metadata": {
    "collapsed": false,
    "scrolled": true
   },
   "outputs": [
    {
     "data": {
      "text/plain": [
       "1.000000      2\n",
       "77.775510     1\n",
       "59.591837     1\n",
       "31.306122     1\n",
       "27.265306     1\n",
       "7.061224      1\n",
       "41.408163     1\n",
       "89.897959     1\n",
       "93.938776     1\n",
       "97.979592     1\n",
       "61.612245     1\n",
       "45.448980     1\n",
       "91.918367     1\n",
       "51.510204     1\n",
       "63.632653     1\n",
       "21.204082     1\n",
       "5.040816      1\n",
       "100.000000    1\n",
       "95.959184     1\n",
       "87.877551     1\n",
       "49.489796     1\n",
       "3.020408      1\n",
       "65.653061     1\n",
       "25.244898     1\n",
       "33.326531     1\n",
       "43.428571     1\n",
       "85.857143     1\n",
       "11.102041     1\n",
       "69.693878     1\n",
       "17.163265     1\n",
       "71.714286     1\n",
       "81.816327     1\n",
       "53.530612     1\n",
       "73.734694     1\n",
       "67.673469     1\n",
       "47.469388     1\n",
       "9.081633      1\n",
       "75.755102     1\n",
       "37.367347     1\n",
       "13.122449     1\n",
       "55.551020     1\n",
       "39.387755     1\n",
       "23.224490     1\n",
       "19.183673     1\n",
       "79.795918     1\n",
       "35.346939     1\n",
       "57.571429     1\n",
       "29.285714     1\n",
       "15.142857     1\n",
       "83.836735     1\n",
       "Name: X, dtype: int64"
      ]
     },
     "execution_count": 46,
     "metadata": {},
     "output_type": "execute_result"
    }
   ],
   "source": [
    "df.X.value_counts()"
   ]
  },
  {
   "cell_type": "code",
   "execution_count": 52,
   "metadata": {
    "collapsed": false
   },
   "outputs": [],
   "source": []
  },
  {
   "cell_type": "code",
   "execution_count": null,
   "metadata": {
    "collapsed": true
   },
   "outputs": [],
   "source": []
  },
  {
   "cell_type": "code",
   "execution_count": null,
   "metadata": {
    "collapsed": true
   },
   "outputs": [],
   "source": []
  },
  {
   "cell_type": "code",
   "execution_count": null,
   "metadata": {
    "collapsed": true
   },
   "outputs": [],
   "source": []
  },
  {
   "cell_type": "code",
   "execution_count": null,
   "metadata": {
    "collapsed": true
   },
   "outputs": [],
   "source": []
  }
 ],
 "metadata": {
  "kernelspec": {
   "display_name": "Python 2",
   "language": "python",
   "name": "python2"
  },
  "language_info": {
   "codemirror_mode": {
    "name": "ipython",
    "version": 2
   },
   "file_extension": ".py",
   "mimetype": "text/x-python",
   "name": "python",
   "nbconvert_exporter": "python",
   "pygments_lexer": "ipython2",
   "version": "2.7.11"
  }
 },
 "nbformat": 4,
 "nbformat_minor": 0
}
