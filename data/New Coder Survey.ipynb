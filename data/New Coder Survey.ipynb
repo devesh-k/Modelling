{
 "cells": [
  {
   "cell_type": "code",
   "execution_count": 12,
   "metadata": {
    "collapsed": true
   },
   "outputs": [],
   "source": [
    "import os\n",
    "import numpy as np\n",
    "#import statistics as stats\n",
    "import pandas as pd\n",
    "import csv\n",
    "import matplotlib.pyplot as plt\n",
    "import seaborn as sns\n",
    "import statsmodels.api as sm\n",
    "import statsmodels.formula.api as smf\n",
    "from sklearn import feature_selection, linear_model , metrics,discriminant_analysis , preprocessing , neighbors , cross_validation\n",
    "from sklearn import utils\n",
    "pd.set_option('display.max_rows', 15)\n",
    "pd.set_option('display.notebook_repr_html', True)\n",
    "#pd.set_option('display.max_columns', 15)\n",
    "\n",
    "%matplotlib inline\n",
    "plt.style.use('ggplot')"
   ]
  },
  {
   "cell_type": "code",
   "execution_count": 13,
   "metadata": {
    "collapsed": false
   },
   "outputs": [
    {
     "name": "stderr",
     "output_type": "stream",
     "text": [
      "/Users/dkhandelwal/anaconda/lib/python2.7/site-packages/IPython/core/interactiveshell.py:2723: DtypeWarning: Columns (21,57) have mixed types. Specify dtype option on import or set low_memory=False.\n",
      "  interactivity=interactivity, compiler=compiler, result=result)\n"
     ]
    }
   ],
   "source": [
    "df = pd.read_csv(\"2016-FCC-New-Coders-Survey-Data.csv\")"
   ]
  },
  {
   "cell_type": "code",
   "execution_count": 14,
   "metadata": {
    "collapsed": false,
    "scrolled": true
   },
   "outputs": [
    {
     "data": {
      "text/html": [
       "<div>\n",
       "<table border=\"1\" class=\"dataframe\">\n",
       "  <thead>\n",
       "    <tr style=\"text-align: right;\">\n",
       "      <th></th>\n",
       "      <th>Age</th>\n",
       "      <th>AttendedBootcamp</th>\n",
       "      <th>BootcampFinish</th>\n",
       "      <th>BootcampFullJobAfter</th>\n",
       "      <th>BootcampLoanYesNo</th>\n",
       "      <th>BootcampMonthsAgo</th>\n",
       "      <th>BootcampName</th>\n",
       "      <th>BootcampPostSalary</th>\n",
       "      <th>BootcampRecommend</th>\n",
       "      <th>ChildrenNumber</th>\n",
       "      <th>...</th>\n",
       "      <th>ResourceSoloLearn</th>\n",
       "      <th>ResourceStackOverflow</th>\n",
       "      <th>ResourceTreehouse</th>\n",
       "      <th>ResourceUdacity</th>\n",
       "      <th>ResourceUdemy</th>\n",
       "      <th>ResourceW3Schools</th>\n",
       "      <th>ResourceYouTube</th>\n",
       "      <th>SchoolDegree</th>\n",
       "      <th>SchoolMajor</th>\n",
       "      <th>StudentDebtOwe</th>\n",
       "    </tr>\n",
       "  </thead>\n",
       "  <tbody>\n",
       "    <tr>\n",
       "      <th>0</th>\n",
       "      <td>28.0</td>\n",
       "      <td>0.0</td>\n",
       "      <td>NaN</td>\n",
       "      <td>NaN</td>\n",
       "      <td>NaN</td>\n",
       "      <td>NaN</td>\n",
       "      <td>NaN</td>\n",
       "      <td>NaN</td>\n",
       "      <td>NaN</td>\n",
       "      <td>NaN</td>\n",
       "      <td>...</td>\n",
       "      <td>NaN</td>\n",
       "      <td>NaN</td>\n",
       "      <td>NaN</td>\n",
       "      <td>NaN</td>\n",
       "      <td>NaN</td>\n",
       "      <td>NaN</td>\n",
       "      <td>NaN</td>\n",
       "      <td>some college credit, no degree</td>\n",
       "      <td>NaN</td>\n",
       "      <td>20000.0</td>\n",
       "    </tr>\n",
       "    <tr>\n",
       "      <th>1</th>\n",
       "      <td>22.0</td>\n",
       "      <td>0.0</td>\n",
       "      <td>NaN</td>\n",
       "      <td>NaN</td>\n",
       "      <td>NaN</td>\n",
       "      <td>NaN</td>\n",
       "      <td>NaN</td>\n",
       "      <td>NaN</td>\n",
       "      <td>NaN</td>\n",
       "      <td>NaN</td>\n",
       "      <td>...</td>\n",
       "      <td>NaN</td>\n",
       "      <td>NaN</td>\n",
       "      <td>NaN</td>\n",
       "      <td>NaN</td>\n",
       "      <td>1.0</td>\n",
       "      <td>NaN</td>\n",
       "      <td>NaN</td>\n",
       "      <td>some college credit, no degree</td>\n",
       "      <td>NaN</td>\n",
       "      <td>NaN</td>\n",
       "    </tr>\n",
       "    <tr>\n",
       "      <th>2</th>\n",
       "      <td>19.0</td>\n",
       "      <td>0.0</td>\n",
       "      <td>NaN</td>\n",
       "      <td>NaN</td>\n",
       "      <td>NaN</td>\n",
       "      <td>NaN</td>\n",
       "      <td>NaN</td>\n",
       "      <td>NaN</td>\n",
       "      <td>NaN</td>\n",
       "      <td>NaN</td>\n",
       "      <td>...</td>\n",
       "      <td>NaN</td>\n",
       "      <td>NaN</td>\n",
       "      <td>NaN</td>\n",
       "      <td>NaN</td>\n",
       "      <td>NaN</td>\n",
       "      <td>NaN</td>\n",
       "      <td>NaN</td>\n",
       "      <td>high school diploma or equivalent (GED)</td>\n",
       "      <td>NaN</td>\n",
       "      <td>NaN</td>\n",
       "    </tr>\n",
       "    <tr>\n",
       "      <th>3</th>\n",
       "      <td>26.0</td>\n",
       "      <td>0.0</td>\n",
       "      <td>NaN</td>\n",
       "      <td>NaN</td>\n",
       "      <td>NaN</td>\n",
       "      <td>NaN</td>\n",
       "      <td>NaN</td>\n",
       "      <td>NaN</td>\n",
       "      <td>NaN</td>\n",
       "      <td>NaN</td>\n",
       "      <td>...</td>\n",
       "      <td>NaN</td>\n",
       "      <td>NaN</td>\n",
       "      <td>NaN</td>\n",
       "      <td>NaN</td>\n",
       "      <td>NaN</td>\n",
       "      <td>NaN</td>\n",
       "      <td>NaN</td>\n",
       "      <td>bachelor's degree</td>\n",
       "      <td>Cinematography And Film</td>\n",
       "      <td>7000.0</td>\n",
       "    </tr>\n",
       "    <tr>\n",
       "      <th>4</th>\n",
       "      <td>20.0</td>\n",
       "      <td>0.0</td>\n",
       "      <td>NaN</td>\n",
       "      <td>NaN</td>\n",
       "      <td>NaN</td>\n",
       "      <td>NaN</td>\n",
       "      <td>NaN</td>\n",
       "      <td>NaN</td>\n",
       "      <td>NaN</td>\n",
       "      <td>NaN</td>\n",
       "      <td>...</td>\n",
       "      <td>NaN</td>\n",
       "      <td>NaN</td>\n",
       "      <td>NaN</td>\n",
       "      <td>NaN</td>\n",
       "      <td>NaN</td>\n",
       "      <td>NaN</td>\n",
       "      <td>NaN</td>\n",
       "      <td>some college credit, no degree</td>\n",
       "      <td>NaN</td>\n",
       "      <td>NaN</td>\n",
       "    </tr>\n",
       "  </tbody>\n",
       "</table>\n",
       "<p>5 rows × 113 columns</p>\n",
       "</div>"
      ],
      "text/plain": [
       "    Age  AttendedBootcamp  BootcampFinish  BootcampFullJobAfter  \\\n",
       "0  28.0               0.0             NaN                   NaN   \n",
       "1  22.0               0.0             NaN                   NaN   \n",
       "2  19.0               0.0             NaN                   NaN   \n",
       "3  26.0               0.0             NaN                   NaN   \n",
       "4  20.0               0.0             NaN                   NaN   \n",
       "\n",
       "   BootcampLoanYesNo  BootcampMonthsAgo BootcampName  BootcampPostSalary  \\\n",
       "0                NaN                NaN          NaN                 NaN   \n",
       "1                NaN                NaN          NaN                 NaN   \n",
       "2                NaN                NaN          NaN                 NaN   \n",
       "3                NaN                NaN          NaN                 NaN   \n",
       "4                NaN                NaN          NaN                 NaN   \n",
       "\n",
       "   BootcampRecommend  ChildrenNumber       ...       ResourceSoloLearn  \\\n",
       "0                NaN             NaN       ...                     NaN   \n",
       "1                NaN             NaN       ...                     NaN   \n",
       "2                NaN             NaN       ...                     NaN   \n",
       "3                NaN             NaN       ...                     NaN   \n",
       "4                NaN             NaN       ...                     NaN   \n",
       "\n",
       "   ResourceStackOverflow  ResourceTreehouse  ResourceUdacity  ResourceUdemy  \\\n",
       "0                    NaN                NaN              NaN            NaN   \n",
       "1                    NaN                NaN              NaN            1.0   \n",
       "2                    NaN                NaN              NaN            NaN   \n",
       "3                    NaN                NaN              NaN            NaN   \n",
       "4                    NaN                NaN              NaN            NaN   \n",
       "\n",
       "   ResourceW3Schools  ResourceYouTube  \\\n",
       "0                NaN              NaN   \n",
       "1                NaN              NaN   \n",
       "2                NaN              NaN   \n",
       "3                NaN              NaN   \n",
       "4                NaN              NaN   \n",
       "\n",
       "                              SchoolDegree              SchoolMajor  \\\n",
       "0           some college credit, no degree                      NaN   \n",
       "1           some college credit, no degree                      NaN   \n",
       "2  high school diploma or equivalent (GED)                      NaN   \n",
       "3                        bachelor's degree  Cinematography And Film   \n",
       "4           some college credit, no degree                      NaN   \n",
       "\n",
       "   StudentDebtOwe  \n",
       "0         20000.0  \n",
       "1             NaN  \n",
       "2             NaN  \n",
       "3          7000.0  \n",
       "4             NaN  \n",
       "\n",
       "[5 rows x 113 columns]"
      ]
     },
     "execution_count": 14,
     "metadata": {},
     "output_type": "execute_result"
    }
   ],
   "source": [
    "df.head()"
   ]
  },
  {
   "cell_type": "code",
   "execution_count": 15,
   "metadata": {
    "collapsed": false
   },
   "outputs": [
    {
     "data": {
      "text/html": [
       "<div>\n",
       "<table border=\"1\" class=\"dataframe\">\n",
       "  <thead>\n",
       "    <tr style=\"text-align: right;\">\n",
       "      <th></th>\n",
       "      <th>Age</th>\n",
       "      <th>AttendedBootcamp</th>\n",
       "      <th>BootcampFinish</th>\n",
       "      <th>BootcampFullJobAfter</th>\n",
       "      <th>BootcampLoanYesNo</th>\n",
       "      <th>BootcampMonthsAgo</th>\n",
       "      <th>BootcampPostSalary</th>\n",
       "      <th>BootcampRecommend</th>\n",
       "      <th>ChildrenNumber</th>\n",
       "      <th>CodeEventBootcamp</th>\n",
       "      <th>...</th>\n",
       "      <th>ResourceReddit</th>\n",
       "      <th>ResourceSkillCrush</th>\n",
       "      <th>ResourceSoloLearn</th>\n",
       "      <th>ResourceStackOverflow</th>\n",
       "      <th>ResourceTreehouse</th>\n",
       "      <th>ResourceUdacity</th>\n",
       "      <th>ResourceUdemy</th>\n",
       "      <th>ResourceW3Schools</th>\n",
       "      <th>ResourceYouTube</th>\n",
       "      <th>StudentDebtOwe</th>\n",
       "    </tr>\n",
       "  </thead>\n",
       "  <tbody>\n",
       "    <tr>\n",
       "      <th>count</th>\n",
       "      <td>13613.000000</td>\n",
       "      <td>15380.000000</td>\n",
       "      <td>933.000000</td>\n",
       "      <td>635.000000</td>\n",
       "      <td>934.000000</td>\n",
       "      <td>631.000000</td>\n",
       "      <td>330.000000</td>\n",
       "      <td>937.000000</td>\n",
       "      <td>2554.000000</td>\n",
       "      <td>42.0</td>\n",
       "      <td>...</td>\n",
       "      <td>29.0</td>\n",
       "      <td>36.0</td>\n",
       "      <td>30.0</td>\n",
       "      <td>191.0</td>\n",
       "      <td>422.0</td>\n",
       "      <td>3306.0</td>\n",
       "      <td>4130.0</td>\n",
       "      <td>121.0</td>\n",
       "      <td>121.0</td>\n",
       "      <td>3514.000000</td>\n",
       "    </tr>\n",
       "    <tr>\n",
       "      <th>mean</th>\n",
       "      <td>29.175421</td>\n",
       "      <td>0.061964</td>\n",
       "      <td>0.689175</td>\n",
       "      <td>0.584252</td>\n",
       "      <td>0.332976</td>\n",
       "      <td>9.055468</td>\n",
       "      <td>63740.506061</td>\n",
       "      <td>0.785486</td>\n",
       "      <td>1.896241</td>\n",
       "      <td>1.0</td>\n",
       "      <td>...</td>\n",
       "      <td>1.0</td>\n",
       "      <td>1.0</td>\n",
       "      <td>1.0</td>\n",
       "      <td>1.0</td>\n",
       "      <td>1.0</td>\n",
       "      <td>1.0</td>\n",
       "      <td>1.0</td>\n",
       "      <td>1.0</td>\n",
       "      <td>1.0</td>\n",
       "      <td>34556.143711</td>\n",
       "    </tr>\n",
       "    <tr>\n",
       "      <th>std</th>\n",
       "      <td>9.017716</td>\n",
       "      <td>0.241097</td>\n",
       "      <td>0.463080</td>\n",
       "      <td>0.493239</td>\n",
       "      <td>0.471531</td>\n",
       "      <td>12.968035</td>\n",
       "      <td>26347.200265</td>\n",
       "      <td>0.410704</td>\n",
       "      <td>1.115975</td>\n",
       "      <td>0.0</td>\n",
       "      <td>...</td>\n",
       "      <td>0.0</td>\n",
       "      <td>0.0</td>\n",
       "      <td>0.0</td>\n",
       "      <td>0.0</td>\n",
       "      <td>0.0</td>\n",
       "      <td>0.0</td>\n",
       "      <td>0.0</td>\n",
       "      <td>0.0</td>\n",
       "      <td>0.0</td>\n",
       "      <td>54423.139781</td>\n",
       "    </tr>\n",
       "    <tr>\n",
       "      <th>min</th>\n",
       "      <td>10.000000</td>\n",
       "      <td>0.000000</td>\n",
       "      <td>0.000000</td>\n",
       "      <td>0.000000</td>\n",
       "      <td>0.000000</td>\n",
       "      <td>0.000000</td>\n",
       "      <td>6000.000000</td>\n",
       "      <td>0.000000</td>\n",
       "      <td>0.000000</td>\n",
       "      <td>1.0</td>\n",
       "      <td>...</td>\n",
       "      <td>1.0</td>\n",
       "      <td>1.0</td>\n",
       "      <td>1.0</td>\n",
       "      <td>1.0</td>\n",
       "      <td>1.0</td>\n",
       "      <td>1.0</td>\n",
       "      <td>1.0</td>\n",
       "      <td>1.0</td>\n",
       "      <td>1.0</td>\n",
       "      <td>0.000000</td>\n",
       "    </tr>\n",
       "    <tr>\n",
       "      <th>25%</th>\n",
       "      <td>23.000000</td>\n",
       "      <td>0.000000</td>\n",
       "      <td>0.000000</td>\n",
       "      <td>0.000000</td>\n",
       "      <td>0.000000</td>\n",
       "      <td>3.000000</td>\n",
       "      <td>50000.000000</td>\n",
       "      <td>1.000000</td>\n",
       "      <td>1.000000</td>\n",
       "      <td>1.0</td>\n",
       "      <td>...</td>\n",
       "      <td>1.0</td>\n",
       "      <td>1.0</td>\n",
       "      <td>1.0</td>\n",
       "      <td>1.0</td>\n",
       "      <td>1.0</td>\n",
       "      <td>1.0</td>\n",
       "      <td>1.0</td>\n",
       "      <td>1.0</td>\n",
       "      <td>1.0</td>\n",
       "      <td>10000.000000</td>\n",
       "    </tr>\n",
       "    <tr>\n",
       "      <th>50%</th>\n",
       "      <td>27.000000</td>\n",
       "      <td>0.000000</td>\n",
       "      <td>1.000000</td>\n",
       "      <td>1.000000</td>\n",
       "      <td>0.000000</td>\n",
       "      <td>6.000000</td>\n",
       "      <td>60000.000000</td>\n",
       "      <td>1.000000</td>\n",
       "      <td>2.000000</td>\n",
       "      <td>1.0</td>\n",
       "      <td>...</td>\n",
       "      <td>1.0</td>\n",
       "      <td>1.0</td>\n",
       "      <td>1.0</td>\n",
       "      <td>1.0</td>\n",
       "      <td>1.0</td>\n",
       "      <td>1.0</td>\n",
       "      <td>1.0</td>\n",
       "      <td>1.0</td>\n",
       "      <td>1.0</td>\n",
       "      <td>20000.000000</td>\n",
       "    </tr>\n",
       "    <tr>\n",
       "      <th>75%</th>\n",
       "      <td>33.000000</td>\n",
       "      <td>0.000000</td>\n",
       "      <td>1.000000</td>\n",
       "      <td>1.000000</td>\n",
       "      <td>1.000000</td>\n",
       "      <td>12.000000</td>\n",
       "      <td>77000.000000</td>\n",
       "      <td>1.000000</td>\n",
       "      <td>2.000000</td>\n",
       "      <td>1.0</td>\n",
       "      <td>...</td>\n",
       "      <td>1.0</td>\n",
       "      <td>1.0</td>\n",
       "      <td>1.0</td>\n",
       "      <td>1.0</td>\n",
       "      <td>1.0</td>\n",
       "      <td>1.0</td>\n",
       "      <td>1.0</td>\n",
       "      <td>1.0</td>\n",
       "      <td>1.0</td>\n",
       "      <td>40000.000000</td>\n",
       "    </tr>\n",
       "    <tr>\n",
       "      <th>max</th>\n",
       "      <td>86.000000</td>\n",
       "      <td>1.000000</td>\n",
       "      <td>1.000000</td>\n",
       "      <td>1.000000</td>\n",
       "      <td>1.000000</td>\n",
       "      <td>220.000000</td>\n",
       "      <td>200000.000000</td>\n",
       "      <td>1.000000</td>\n",
       "      <td>18.000000</td>\n",
       "      <td>1.0</td>\n",
       "      <td>...</td>\n",
       "      <td>1.0</td>\n",
       "      <td>1.0</td>\n",
       "      <td>1.0</td>\n",
       "      <td>1.0</td>\n",
       "      <td>1.0</td>\n",
       "      <td>1.0</td>\n",
       "      <td>1.0</td>\n",
       "      <td>1.0</td>\n",
       "      <td>1.0</td>\n",
       "      <td>1000000.000000</td>\n",
       "    </tr>\n",
       "  </tbody>\n",
       "</table>\n",
       "<p>8 rows × 85 columns</p>\n",
       "</div>"
      ],
      "text/plain": [
       "                Age  AttendedBootcamp  BootcampFinish  BootcampFullJobAfter  \\\n",
       "count  13613.000000      15380.000000      933.000000            635.000000   \n",
       "mean      29.175421          0.061964        0.689175              0.584252   \n",
       "std        9.017716          0.241097        0.463080              0.493239   \n",
       "min       10.000000          0.000000        0.000000              0.000000   \n",
       "25%       23.000000          0.000000        0.000000              0.000000   \n",
       "50%       27.000000          0.000000        1.000000              1.000000   \n",
       "75%       33.000000          0.000000        1.000000              1.000000   \n",
       "max       86.000000          1.000000        1.000000              1.000000   \n",
       "\n",
       "       BootcampLoanYesNo  BootcampMonthsAgo  BootcampPostSalary  \\\n",
       "count         934.000000         631.000000          330.000000   \n",
       "mean            0.332976           9.055468        63740.506061   \n",
       "std             0.471531          12.968035        26347.200265   \n",
       "min             0.000000           0.000000         6000.000000   \n",
       "25%             0.000000           3.000000        50000.000000   \n",
       "50%             0.000000           6.000000        60000.000000   \n",
       "75%             1.000000          12.000000        77000.000000   \n",
       "max             1.000000         220.000000       200000.000000   \n",
       "\n",
       "       BootcampRecommend  ChildrenNumber  CodeEventBootcamp       ...        \\\n",
       "count         937.000000     2554.000000               42.0       ...         \n",
       "mean            0.785486        1.896241                1.0       ...         \n",
       "std             0.410704        1.115975                0.0       ...         \n",
       "min             0.000000        0.000000                1.0       ...         \n",
       "25%             1.000000        1.000000                1.0       ...         \n",
       "50%             1.000000        2.000000                1.0       ...         \n",
       "75%             1.000000        2.000000                1.0       ...         \n",
       "max             1.000000       18.000000                1.0       ...         \n",
       "\n",
       "       ResourceReddit  ResourceSkillCrush  ResourceSoloLearn  \\\n",
       "count            29.0                36.0               30.0   \n",
       "mean              1.0                 1.0                1.0   \n",
       "std               0.0                 0.0                0.0   \n",
       "min               1.0                 1.0                1.0   \n",
       "25%               1.0                 1.0                1.0   \n",
       "50%               1.0                 1.0                1.0   \n",
       "75%               1.0                 1.0                1.0   \n",
       "max               1.0                 1.0                1.0   \n",
       "\n",
       "       ResourceStackOverflow  ResourceTreehouse  ResourceUdacity  \\\n",
       "count                  191.0              422.0           3306.0   \n",
       "mean                     1.0                1.0              1.0   \n",
       "std                      0.0                0.0              0.0   \n",
       "min                      1.0                1.0              1.0   \n",
       "25%                      1.0                1.0              1.0   \n",
       "50%                      1.0                1.0              1.0   \n",
       "75%                      1.0                1.0              1.0   \n",
       "max                      1.0                1.0              1.0   \n",
       "\n",
       "       ResourceUdemy  ResourceW3Schools  ResourceYouTube  StudentDebtOwe  \n",
       "count         4130.0              121.0            121.0     3514.000000  \n",
       "mean             1.0                1.0              1.0    34556.143711  \n",
       "std              0.0                0.0              0.0    54423.139781  \n",
       "min              1.0                1.0              1.0        0.000000  \n",
       "25%              1.0                1.0              1.0    10000.000000  \n",
       "50%              1.0                1.0              1.0    20000.000000  \n",
       "75%              1.0                1.0              1.0    40000.000000  \n",
       "max              1.0                1.0              1.0  1000000.000000  \n",
       "\n",
       "[8 rows x 85 columns]"
      ]
     },
     "execution_count": 15,
     "metadata": {},
     "output_type": "execute_result"
    }
   ],
   "source": [
    "df.describe()"
   ]
  },
  {
   "cell_type": "markdown",
   "metadata": {},
   "source": [
    "# Analyzing the demographies for those who got a FTE after a boot camp"
   ]
  },
  {
   "cell_type": "code",
   "execution_count": 16,
   "metadata": {
    "collapsed": false
   },
   "outputs": [
    {
     "data": {
      "text/plain": [
       "14985"
      ]
     },
     "execution_count": 16,
     "metadata": {},
     "output_type": "execute_result"
    }
   ],
   "source": [
    "df.BootcampFullJobAfter.isnull().sum()"
   ]
  },
  {
   "cell_type": "code",
   "execution_count": 17,
   "metadata": {
    "collapsed": false
   },
   "outputs": [
    {
     "data": {
      "text/plain": [
       "1.0    371\n",
       "0.0    264\n",
       "Name: BootcampFullJobAfter, dtype: int64"
      ]
     },
     "execution_count": 17,
     "metadata": {},
     "output_type": "execute_result"
    }
   ],
   "source": [
    "df.BootcampFullJobAfter.value_counts()"
   ]
  },
  {
   "cell_type": "markdown",
   "metadata": {},
   "source": [
    "-14985 records are NULL\n",
    "-371 with 1 and 264 with 0 \n"
   ]
  },
  {
   "cell_type": "code",
   "execution_count": 18,
   "metadata": {
    "collapsed": false
   },
   "outputs": [],
   "source": [
    "# Creating a new data frame where BootcampFullJobAfter is NOT NULL\n",
    "df_FTE = df[(df.BootcampFullJobAfter.notnull())]"
   ]
  },
  {
   "cell_type": "code",
   "execution_count": 19,
   "metadata": {
    "collapsed": false
   },
   "outputs": [
    {
     "data": {
      "text/plain": [
       "0"
      ]
     },
     "execution_count": 19,
     "metadata": {},
     "output_type": "execute_result"
    }
   ],
   "source": [
    "# Checking if there are any null values for BootcampFullJobAfter\n",
    "df_FTE.BootcampFullJobAfter.value_counts().isnull().sum()"
   ]
  },
  {
   "cell_type": "code",
   "execution_count": 20,
   "metadata": {
    "collapsed": false
   },
   "outputs": [
    {
     "data": {
      "text/plain": [
       "635"
      ]
     },
     "execution_count": 20,
     "metadata": {},
     "output_type": "execute_result"
    }
   ],
   "source": [
    "len(df_FTE)"
   ]
  },
  {
   "cell_type": "code",
   "execution_count": 21,
   "metadata": {
    "collapsed": false
   },
   "outputs": [
    {
     "data": {
      "text/plain": [
       "Index([u'Age', u'AttendedBootcamp', u'BootcampFinish', u'BootcampFullJobAfter',\n",
       "       u'BootcampLoanYesNo', u'BootcampMonthsAgo', u'BootcampName',\n",
       "       u'BootcampPostSalary', u'BootcampRecommend', u'ChildrenNumber',\n",
       "       ...\n",
       "       u'ResourceSoloLearn', u'ResourceStackOverflow', u'ResourceTreehouse',\n",
       "       u'ResourceUdacity', u'ResourceUdemy', u'ResourceW3Schools',\n",
       "       u'ResourceYouTube', u'SchoolDegree', u'SchoolMajor', u'StudentDebtOwe'],\n",
       "      dtype='object', length=113)"
      ]
     },
     "execution_count": 21,
     "metadata": {},
     "output_type": "execute_result"
    }
   ],
   "source": [
    "df_FTE.columns"
   ]
  },
  {
   "cell_type": "code",
   "execution_count": 22,
   "metadata": {
    "collapsed": false,
    "scrolled": true
   },
   "outputs": [
    {
     "data": {
      "text/html": [
       "<div>\n",
       "<table border=\"1\" class=\"dataframe\">\n",
       "  <thead>\n",
       "    <tr style=\"text-align: right;\">\n",
       "      <th></th>\n",
       "      <th>Age</th>\n",
       "      <th>AttendedBootcamp</th>\n",
       "      <th>BootcampFinish</th>\n",
       "      <th>BootcampFullJobAfter</th>\n",
       "      <th>BootcampLoanYesNo</th>\n",
       "      <th>BootcampMonthsAgo</th>\n",
       "      <th>BootcampPostSalary</th>\n",
       "      <th>BootcampRecommend</th>\n",
       "      <th>ChildrenNumber</th>\n",
       "      <th>CodeEventBootcamp</th>\n",
       "      <th>...</th>\n",
       "      <th>ResourceReddit</th>\n",
       "      <th>ResourceSkillCrush</th>\n",
       "      <th>ResourceSoloLearn</th>\n",
       "      <th>ResourceStackOverflow</th>\n",
       "      <th>ResourceTreehouse</th>\n",
       "      <th>ResourceUdacity</th>\n",
       "      <th>ResourceUdemy</th>\n",
       "      <th>ResourceW3Schools</th>\n",
       "      <th>ResourceYouTube</th>\n",
       "      <th>StudentDebtOwe</th>\n",
       "    </tr>\n",
       "  </thead>\n",
       "  <tbody>\n",
       "    <tr>\n",
       "      <th>count</th>\n",
       "      <td>545.000000</td>\n",
       "      <td>635.0</td>\n",
       "      <td>635.0</td>\n",
       "      <td>635.000000</td>\n",
       "      <td>628.000000</td>\n",
       "      <td>624.000000</td>\n",
       "      <td>330.000000</td>\n",
       "      <td>631.000000</td>\n",
       "      <td>109.000000</td>\n",
       "      <td>16.0</td>\n",
       "      <td>...</td>\n",
       "      <td>0.0</td>\n",
       "      <td>1.0</td>\n",
       "      <td>0.0</td>\n",
       "      <td>5.0</td>\n",
       "      <td>35.0</td>\n",
       "      <td>119.0</td>\n",
       "      <td>198.0</td>\n",
       "      <td>0.0</td>\n",
       "      <td>1.0</td>\n",
       "      <td>207.000000</td>\n",
       "    </tr>\n",
       "    <tr>\n",
       "      <th>mean</th>\n",
       "      <td>31.653211</td>\n",
       "      <td>1.0</td>\n",
       "      <td>1.0</td>\n",
       "      <td>0.584252</td>\n",
       "      <td>0.348726</td>\n",
       "      <td>9.043269</td>\n",
       "      <td>63740.506061</td>\n",
       "      <td>0.752773</td>\n",
       "      <td>1.954128</td>\n",
       "      <td>1.0</td>\n",
       "      <td>...</td>\n",
       "      <td>NaN</td>\n",
       "      <td>1.0</td>\n",
       "      <td>NaN</td>\n",
       "      <td>1.0</td>\n",
       "      <td>1.0</td>\n",
       "      <td>1.0</td>\n",
       "      <td>1.0</td>\n",
       "      <td>NaN</td>\n",
       "      <td>1.0</td>\n",
       "      <td>32797.376812</td>\n",
       "    </tr>\n",
       "    <tr>\n",
       "      <th>std</th>\n",
       "      <td>7.920963</td>\n",
       "      <td>0.0</td>\n",
       "      <td>0.0</td>\n",
       "      <td>0.493239</td>\n",
       "      <td>0.476947</td>\n",
       "      <td>12.991900</td>\n",
       "      <td>26347.200265</td>\n",
       "      <td>0.431742</td>\n",
       "      <td>1.690854</td>\n",
       "      <td>0.0</td>\n",
       "      <td>...</td>\n",
       "      <td>NaN</td>\n",
       "      <td>NaN</td>\n",
       "      <td>NaN</td>\n",
       "      <td>0.0</td>\n",
       "      <td>0.0</td>\n",
       "      <td>0.0</td>\n",
       "      <td>0.0</td>\n",
       "      <td>NaN</td>\n",
       "      <td>NaN</td>\n",
       "      <td>54717.363196</td>\n",
       "    </tr>\n",
       "    <tr>\n",
       "      <th>min</th>\n",
       "      <td>18.000000</td>\n",
       "      <td>1.0</td>\n",
       "      <td>1.0</td>\n",
       "      <td>0.000000</td>\n",
       "      <td>0.000000</td>\n",
       "      <td>0.000000</td>\n",
       "      <td>6000.000000</td>\n",
       "      <td>0.000000</td>\n",
       "      <td>0.000000</td>\n",
       "      <td>1.0</td>\n",
       "      <td>...</td>\n",
       "      <td>NaN</td>\n",
       "      <td>1.0</td>\n",
       "      <td>NaN</td>\n",
       "      <td>1.0</td>\n",
       "      <td>1.0</td>\n",
       "      <td>1.0</td>\n",
       "      <td>1.0</td>\n",
       "      <td>NaN</td>\n",
       "      <td>1.0</td>\n",
       "      <td>2.000000</td>\n",
       "    </tr>\n",
       "    <tr>\n",
       "      <th>25%</th>\n",
       "      <td>26.000000</td>\n",
       "      <td>1.0</td>\n",
       "      <td>1.0</td>\n",
       "      <td>0.000000</td>\n",
       "      <td>0.000000</td>\n",
       "      <td>3.000000</td>\n",
       "      <td>50000.000000</td>\n",
       "      <td>1.000000</td>\n",
       "      <td>1.000000</td>\n",
       "      <td>1.0</td>\n",
       "      <td>...</td>\n",
       "      <td>NaN</td>\n",
       "      <td>1.0</td>\n",
       "      <td>NaN</td>\n",
       "      <td>1.0</td>\n",
       "      <td>1.0</td>\n",
       "      <td>1.0</td>\n",
       "      <td>1.0</td>\n",
       "      <td>NaN</td>\n",
       "      <td>1.0</td>\n",
       "      <td>10000.000000</td>\n",
       "    </tr>\n",
       "    <tr>\n",
       "      <th>50%</th>\n",
       "      <td>30.000000</td>\n",
       "      <td>1.0</td>\n",
       "      <td>1.0</td>\n",
       "      <td>1.000000</td>\n",
       "      <td>0.000000</td>\n",
       "      <td>6.000000</td>\n",
       "      <td>60000.000000</td>\n",
       "      <td>1.000000</td>\n",
       "      <td>2.000000</td>\n",
       "      <td>1.0</td>\n",
       "      <td>...</td>\n",
       "      <td>NaN</td>\n",
       "      <td>1.0</td>\n",
       "      <td>NaN</td>\n",
       "      <td>1.0</td>\n",
       "      <td>1.0</td>\n",
       "      <td>1.0</td>\n",
       "      <td>1.0</td>\n",
       "      <td>NaN</td>\n",
       "      <td>1.0</td>\n",
       "      <td>20000.000000</td>\n",
       "    </tr>\n",
       "    <tr>\n",
       "      <th>75%</th>\n",
       "      <td>35.000000</td>\n",
       "      <td>1.0</td>\n",
       "      <td>1.0</td>\n",
       "      <td>1.000000</td>\n",
       "      <td>1.000000</td>\n",
       "      <td>12.000000</td>\n",
       "      <td>77000.000000</td>\n",
       "      <td>1.000000</td>\n",
       "      <td>2.000000</td>\n",
       "      <td>1.0</td>\n",
       "      <td>...</td>\n",
       "      <td>NaN</td>\n",
       "      <td>1.0</td>\n",
       "      <td>NaN</td>\n",
       "      <td>1.0</td>\n",
       "      <td>1.0</td>\n",
       "      <td>1.0</td>\n",
       "      <td>1.0</td>\n",
       "      <td>NaN</td>\n",
       "      <td>1.0</td>\n",
       "      <td>37500.000000</td>\n",
       "    </tr>\n",
       "    <tr>\n",
       "      <th>max</th>\n",
       "      <td>60.000000</td>\n",
       "      <td>1.0</td>\n",
       "      <td>1.0</td>\n",
       "      <td>1.000000</td>\n",
       "      <td>1.000000</td>\n",
       "      <td>220.000000</td>\n",
       "      <td>200000.000000</td>\n",
       "      <td>1.000000</td>\n",
       "      <td>15.000000</td>\n",
       "      <td>1.0</td>\n",
       "      <td>...</td>\n",
       "      <td>NaN</td>\n",
       "      <td>1.0</td>\n",
       "      <td>NaN</td>\n",
       "      <td>1.0</td>\n",
       "      <td>1.0</td>\n",
       "      <td>1.0</td>\n",
       "      <td>1.0</td>\n",
       "      <td>NaN</td>\n",
       "      <td>1.0</td>\n",
       "      <td>675856.000000</td>\n",
       "    </tr>\n",
       "  </tbody>\n",
       "</table>\n",
       "<p>8 rows × 85 columns</p>\n",
       "</div>"
      ],
      "text/plain": [
       "              Age  AttendedBootcamp  BootcampFinish  BootcampFullJobAfter  \\\n",
       "count  545.000000             635.0           635.0            635.000000   \n",
       "mean    31.653211               1.0             1.0              0.584252   \n",
       "std      7.920963               0.0             0.0              0.493239   \n",
       "min     18.000000               1.0             1.0              0.000000   \n",
       "25%     26.000000               1.0             1.0              0.000000   \n",
       "50%     30.000000               1.0             1.0              1.000000   \n",
       "75%     35.000000               1.0             1.0              1.000000   \n",
       "max     60.000000               1.0             1.0              1.000000   \n",
       "\n",
       "       BootcampLoanYesNo  BootcampMonthsAgo  BootcampPostSalary  \\\n",
       "count         628.000000         624.000000          330.000000   \n",
       "mean            0.348726           9.043269        63740.506061   \n",
       "std             0.476947          12.991900        26347.200265   \n",
       "min             0.000000           0.000000         6000.000000   \n",
       "25%             0.000000           3.000000        50000.000000   \n",
       "50%             0.000000           6.000000        60000.000000   \n",
       "75%             1.000000          12.000000        77000.000000   \n",
       "max             1.000000         220.000000       200000.000000   \n",
       "\n",
       "       BootcampRecommend  ChildrenNumber  CodeEventBootcamp       ...        \\\n",
       "count         631.000000      109.000000               16.0       ...         \n",
       "mean            0.752773        1.954128                1.0       ...         \n",
       "std             0.431742        1.690854                0.0       ...         \n",
       "min             0.000000        0.000000                1.0       ...         \n",
       "25%             1.000000        1.000000                1.0       ...         \n",
       "50%             1.000000        2.000000                1.0       ...         \n",
       "75%             1.000000        2.000000                1.0       ...         \n",
       "max             1.000000       15.000000                1.0       ...         \n",
       "\n",
       "       ResourceReddit  ResourceSkillCrush  ResourceSoloLearn  \\\n",
       "count             0.0                 1.0                0.0   \n",
       "mean              NaN                 1.0                NaN   \n",
       "std               NaN                 NaN                NaN   \n",
       "min               NaN                 1.0                NaN   \n",
       "25%               NaN                 1.0                NaN   \n",
       "50%               NaN                 1.0                NaN   \n",
       "75%               NaN                 1.0                NaN   \n",
       "max               NaN                 1.0                NaN   \n",
       "\n",
       "       ResourceStackOverflow  ResourceTreehouse  ResourceUdacity  \\\n",
       "count                    5.0               35.0            119.0   \n",
       "mean                     1.0                1.0              1.0   \n",
       "std                      0.0                0.0              0.0   \n",
       "min                      1.0                1.0              1.0   \n",
       "25%                      1.0                1.0              1.0   \n",
       "50%                      1.0                1.0              1.0   \n",
       "75%                      1.0                1.0              1.0   \n",
       "max                      1.0                1.0              1.0   \n",
       "\n",
       "       ResourceUdemy  ResourceW3Schools  ResourceYouTube  StudentDebtOwe  \n",
       "count          198.0                0.0              1.0      207.000000  \n",
       "mean             1.0                NaN              1.0    32797.376812  \n",
       "std              0.0                NaN              NaN    54717.363196  \n",
       "min              1.0                NaN              1.0        2.000000  \n",
       "25%              1.0                NaN              1.0    10000.000000  \n",
       "50%              1.0                NaN              1.0    20000.000000  \n",
       "75%              1.0                NaN              1.0    37500.000000  \n",
       "max              1.0                NaN              1.0   675856.000000  \n",
       "\n",
       "[8 rows x 85 columns]"
      ]
     },
     "execution_count": 22,
     "metadata": {},
     "output_type": "execute_result"
    }
   ],
   "source": [
    "df_FTE.describe()"
   ]
  },
  {
   "cell_type": "code",
   "execution_count": null,
   "metadata": {
    "collapsed": false
   },
   "outputs": [],
   "source": []
  },
  {
   "cell_type": "code",
   "execution_count": 23,
   "metadata": {
    "collapsed": false
   },
   "outputs": [],
   "source": [
    "#Creating a Data Frame object to hold the number of Null values for each column\n",
    "df_null_num = pd.DataFrame({'Column' : np.NAN , 'Number':np.NAN}, index = [0])\n"
   ]
  },
  {
   "cell_type": "code",
   "execution_count": 24,
   "metadata": {
    "collapsed": false
   },
   "outputs": [
    {
     "name": "stdout",
     "output_type": "stream",
     "text": [
      " The Column name is 'Age'--\n",
      " The number of Null values for 'Age' is Age    90\n",
      "dtype: int64-- \n",
      " The Column name is 'AttendedBootcamp'--\n",
      " The number of Null values for 'AttendedBootcamp' is AttendedBootcamp    0\n",
      "dtype: int64-- \n",
      " The Column name is 'BootcampFinish'--\n",
      " The number of Null values for 'BootcampFinish' is BootcampFinish    0\n",
      "dtype: int64-- \n",
      " The Column name is 'BootcampFullJobAfter'--\n",
      " The number of Null values for 'BootcampFullJobAfter' is BootcampFullJobAfter    0\n",
      "dtype: int64-- \n",
      " The Column name is 'BootcampLoanYesNo'--\n",
      " The number of Null values for 'BootcampLoanYesNo' is BootcampLoanYesNo    7\n",
      "dtype: int64-- \n",
      " The Column name is 'BootcampMonthsAgo'--\n",
      " The number of Null values for 'BootcampMonthsAgo' is BootcampMonthsAgo    11\n",
      "dtype: int64-- \n",
      " The Column name is 'BootcampName'--\n",
      " The number of Null values for 'BootcampName' is BootcampName    21\n",
      "dtype: int64-- \n",
      " The Column name is 'BootcampPostSalary'--\n",
      " The number of Null values for 'BootcampPostSalary' is BootcampPostSalary    305\n",
      "dtype: int64-- \n",
      " The Column name is 'BootcampRecommend'--\n",
      " The number of Null values for 'BootcampRecommend' is BootcampRecommend    4\n",
      "dtype: int64-- \n",
      " The Column name is 'ChildrenNumber'--\n",
      " The number of Null values for 'ChildrenNumber' is ChildrenNumber    526\n",
      "dtype: int64-- \n",
      " The Column name is 'CityPopulation'--\n",
      " The number of Null values for 'CityPopulation' is CityPopulation    92\n",
      "dtype: int64-- \n",
      " The Column name is 'CodeEventBootcamp'--\n",
      " The number of Null values for 'CodeEventBootcamp' is CodeEventBootcamp    619\n",
      "dtype: int64-- \n",
      " The Column name is 'CodeEventCoffee'--\n",
      " The number of Null values for 'CodeEventCoffee' is CodeEventCoffee    459\n",
      "dtype: int64-- \n",
      " The Column name is 'CodeEventConferences'--\n",
      " The number of Null values for 'CodeEventConferences' is CodeEventConferences    359\n",
      "dtype: int64-- \n",
      " The Column name is 'CodeEventDjangoGirls'--\n",
      " The number of Null values for 'CodeEventDjangoGirls' is CodeEventDjangoGirls    634\n",
      "dtype: int64-- \n",
      " The Column name is 'CodeEventGameJam'--\n",
      " The number of Null values for 'CodeEventGameJam' is CodeEventGameJam    634\n",
      "dtype: int64-- \n",
      " The Column name is 'CodeEventGirlDev'--\n",
      " The number of Null values for 'CodeEventGirlDev' is CodeEventGirlDev    512\n",
      "dtype: int64-- \n",
      " The Column name is 'CodeEventHackathons'--\n",
      " The number of Null values for 'CodeEventHackathons' is CodeEventHackathons    364\n",
      "dtype: int64-- \n",
      " The Column name is 'CodeEventMeetup'--\n",
      " The number of Null values for 'CodeEventMeetup' is CodeEventMeetup    604\n",
      "dtype: int64-- \n",
      " The Column name is 'CodeEventNodeSchool'--\n",
      " The number of Null values for 'CodeEventNodeSchool' is CodeEventNodeSchool    570\n",
      "dtype: int64-- \n",
      " The Column name is 'CodeEventNone'--\n",
      " The number of Null values for 'CodeEventNone' is CodeEventNone    535\n",
      "dtype: int64-- \n",
      " The Column name is 'CodeEventOther'--\n",
      " The number of Null values for 'CodeEventOther' is CodeEventOther    549\n",
      "dtype: int64-- \n",
      " The Column name is 'CodeEventRailsBridge'--\n",
      " The number of Null values for 'CodeEventRailsBridge' is CodeEventRailsBridge    567\n",
      "dtype: int64-- \n",
      " The Column name is 'CodeEventRailsGirls'--\n",
      " The number of Null values for 'CodeEventRailsGirls' is CodeEventRailsGirls    634\n",
      "dtype: int64-- \n",
      " The Column name is 'CodeEventStartUpWknd'--\n",
      " The number of Null values for 'CodeEventStartUpWknd' is CodeEventStartUpWknd    565\n",
      "dtype: int64-- \n",
      " The Column name is 'CodeEventWomenCode'--\n",
      " The number of Null values for 'CodeEventWomenCode' is CodeEventWomenCode    502\n",
      "dtype: int64-- \n",
      " The Column name is 'CodeEventWorkshop'--\n",
      " The number of Null values for 'CodeEventWorkshop' is CodeEventWorkshop    633\n",
      "dtype: int64-- \n",
      " The Column name is 'CommuteTime'--\n",
      " The number of Null values for 'CommuteTime' is CommuteTime    252\n",
      "dtype: int64-- \n",
      " The Column name is 'CountryCitizen'--\n",
      " The number of Null values for 'CountryCitizen' is CountryCitizen    86\n",
      "dtype: int64-- \n",
      " The Column name is 'CountryLive'--\n",
      " The number of Null values for 'CountryLive' is CountryLive    88\n",
      "dtype: int64-- \n",
      " The Column name is 'EmploymentField'--\n",
      " The number of Null values for 'EmploymentField' is EmploymentField    261\n",
      "dtype: int64-- \n",
      " The Column name is 'EmploymentFieldOther'--\n",
      " The number of Null values for 'EmploymentFieldOther' is EmploymentFieldOther    620\n",
      "dtype: int64-- \n",
      " The Column name is 'EmploymentStatus'--\n",
      " The number of Null values for 'EmploymentStatus' is EmploymentStatus    90\n",
      "dtype: int64-- \n",
      " The Column name is 'EmploymentStatusOther'--\n",
      " The number of Null values for 'EmploymentStatusOther' is EmploymentStatusOther    631\n",
      "dtype: int64-- \n",
      " The Column name is 'ExpectedEarning'--\n",
      " The number of Null values for 'ExpectedEarning' is ExpectedEarning    434\n",
      "dtype: int64-- \n",
      " The Column name is 'FinanciallySupporting'--\n",
      " The number of Null values for 'FinanciallySupporting' is FinanciallySupporting    488\n",
      "dtype: int64-- \n",
      " The Column name is 'Gender'--\n",
      " The number of Null values for 'Gender' is Gender    83\n",
      "dtype: int64-- \n",
      " The Column name is 'HasChildren'--\n",
      " The number of Null values for 'HasChildren' is HasChildren    487\n",
      "dtype: int64-- \n",
      " The Column name is 'HasDebt'--\n",
      " The number of Null values for 'HasDebt' is HasDebt    85\n",
      "dtype: int64-- \n",
      " The Column name is 'HasFinancialDependents'--\n",
      " The number of Null values for 'HasFinancialDependents' is HasFinancialDependents    84\n",
      "dtype: int64-- \n",
      " The Column name is 'HasHighSpdInternet'--\n",
      " The number of Null values for 'HasHighSpdInternet' is HasHighSpdInternet    88\n",
      "dtype: int64-- \n",
      " The Column name is 'HasHomeMortgage'--\n",
      " The number of Null values for 'HasHomeMortgage' is HasHomeMortgage    302\n",
      "dtype: int64-- \n",
      " The Column name is 'HasServedInMilitary'--\n",
      " The number of Null values for 'HasServedInMilitary' is HasServedInMilitary    87\n",
      "dtype: int64-- \n",
      " The Column name is 'HasStudentDebt'--\n",
      " The number of Null values for 'HasStudentDebt' is HasStudentDebt    301\n",
      "dtype: int64-- \n",
      " The Column name is 'HomeMortgageOwe'--\n",
      " The number of Null values for 'HomeMortgageOwe' is HomeMortgageOwe    560\n",
      "dtype: int64-- \n",
      " The Column name is 'HoursLearning'--\n",
      " The number of Null values for 'HoursLearning' is HoursLearning    18\n",
      "dtype: int64-- \n",
      " The Column name is 'ID.x'--\n",
      " The number of Null values for 'ID.x' is ID.x    0\n",
      "dtype: int64-- \n",
      " The Column name is 'ID.y'--\n",
      " The number of Null values for 'ID.y' is ID.y    78\n",
      "dtype: int64-- \n",
      " The Column name is 'Income'--\n",
      " The number of Null values for 'Income' is Income    302\n",
      "dtype: int64-- \n",
      " The Column name is 'IsEthnicMinority'--\n",
      " The number of Null values for 'IsEthnicMinority' is IsEthnicMinority    87\n",
      "dtype: int64-- \n",
      " The Column name is 'IsReceiveDiabilitiesBenefits'--\n",
      " The number of Null values for 'IsReceiveDiabilitiesBenefits' is IsReceiveDiabilitiesBenefits    87\n",
      "dtype: int64-- \n",
      " The Column name is 'IsSoftwareDev'--\n",
      " The number of Null values for 'IsSoftwareDev' is IsSoftwareDev    0\n",
      "dtype: int64-- \n",
      " The Column name is 'IsUnderEmployed'--\n",
      " The number of Null values for 'IsUnderEmployed' is IsUnderEmployed    241\n",
      "dtype: int64-- \n",
      " The Column name is 'JobApplyWhen'--\n",
      " The number of Null values for 'JobApplyWhen' is JobApplyWhen    427\n",
      "dtype: int64-- \n",
      " The Column name is 'JobPref'--\n",
      " The number of Null values for 'JobPref' is JobPref    386\n",
      "dtype: int64-- \n",
      " The Column name is 'JobRelocateYesNo'--\n",
      " The number of Null values for 'JobRelocateYesNo' is JobRelocateYesNo    454\n",
      "dtype: int64-- \n",
      " The Column name is 'JobRoleInterest'--\n",
      " The number of Null values for 'JobRoleInterest' is JobRoleInterest    430\n",
      "dtype: int64-- \n",
      " The Column name is 'JobRoleInterestOther'--\n",
      " The number of Null values for 'JobRoleInterestOther' is JobRoleInterestOther    632\n",
      "dtype: int64-- \n",
      " The Column name is 'JobWherePref'--\n",
      " The number of Null values for 'JobWherePref' is JobWherePref    427\n",
      "dtype: int64-- \n",
      " The Column name is 'LanguageAtHome'--\n",
      " The number of Null values for 'LanguageAtHome' is LanguageAtHome    91\n",
      "dtype: int64-- \n",
      " The Column name is 'MaritalStatus'--\n",
      " The number of Null values for 'MaritalStatus' is MaritalStatus    487\n",
      "dtype: int64-- \n",
      " The Column name is 'MoneyForLearning'--\n",
      " The number of Null values for 'MoneyForLearning' is MoneyForLearning    38\n",
      "dtype: int64-- \n",
      " The Column name is 'MonthsProgramming'--\n",
      " The number of Null values for 'MonthsProgramming' is MonthsProgramming    8\n",
      "dtype: int64-- \n",
      " The Column name is 'NetworkID'--\n",
      " The number of Null values for 'NetworkID' is NetworkID    0\n",
      "dtype: int64-- \n",
      " The Column name is 'Part1EndTime'--\n",
      " The number of Null values for 'Part1EndTime' is Part1EndTime    0\n",
      "dtype: int64-- \n",
      " The Column name is 'Part1StartTime'--\n",
      " The number of Null values for 'Part1StartTime' is Part1StartTime    0\n",
      "dtype: int64-- \n",
      " The Column name is 'Part2EndTime'--\n",
      " The number of Null values for 'Part2EndTime' is Part2EndTime    78\n",
      "dtype: int64-- \n",
      " The Column name is 'Part2StartTime'--\n",
      " The number of Null values for 'Part2StartTime' is Part2StartTime    78\n",
      "dtype: int64-- \n",
      " The Column name is 'PodcastChangeLog'--\n",
      " The number of Null values for 'PodcastChangeLog' is PodcastChangeLog    606\n",
      "dtype: int64-- \n",
      " The Column name is 'PodcastCodeNewbie'--\n",
      " The number of Null values for 'PodcastCodeNewbie' is PodcastCodeNewbie    515\n",
      "dtype: int64-- \n",
      " The Column name is 'PodcastCodingBlocks'--\n",
      " The number of Null values for 'PodcastCodingBlocks' is PodcastCodingBlocks    634\n",
      "dtype: int64-- \n",
      " The Column name is 'PodcastDeveloperTea'--\n",
      " The number of Null values for 'PodcastDeveloperTea' is PodcastDeveloperTea    629\n",
      "dtype: int64-- \n",
      " The Column name is 'PodcastDotNetRocks'--\n",
      " The number of Null values for 'PodcastDotNetRocks' is PodcastDotNetRocks    635\n",
      "dtype: int64-- \n",
      " The Column name is 'PodcastHanselminutes'--\n",
      " The number of Null values for 'PodcastHanselminutes' is PodcastHanselminutes    634\n",
      "dtype: int64-- \n",
      " The Column name is 'PodcastJSJabber'--\n",
      " The number of Null values for 'PodcastJSJabber' is PodcastJSJabber    516\n",
      "dtype: int64-- \n",
      " The Column name is 'PodcastJsAir'--\n",
      " The number of Null values for 'PodcastJsAir' is PodcastJsAir    635\n",
      "dtype: int64-- \n",
      " The Column name is 'PodcastNone'--\n",
      " The number of Null values for 'PodcastNone' is PodcastNone    274\n",
      "dtype: int64-- \n",
      " The Column name is 'PodcastOther'--\n",
      " The number of Null values for 'PodcastOther' is PodcastOther    572\n",
      "dtype: int64-- \n",
      " The Column name is 'PodcastProgrammingThrowDown'--\n",
      " The number of Null values for 'PodcastProgrammingThrowDown' is PodcastProgrammingThrowDown    634\n",
      "dtype: int64-- \n",
      " The Column name is 'PodcastRubyRogues'--\n",
      " The number of Null values for 'PodcastRubyRogues' is PodcastRubyRogues    617\n",
      "dtype: int64-- \n",
      " The Column name is 'PodcastSEDaily'--\n",
      " The number of Null values for 'PodcastSEDaily' is PodcastSEDaily    591\n",
      "dtype: int64-- \n",
      " The Column name is 'PodcastShopTalk'--\n",
      " The number of Null values for 'PodcastShopTalk' is PodcastShopTalk    630\n",
      "dtype: int64-- \n",
      " The Column name is 'PodcastTalkPython'--\n",
      " The number of Null values for 'PodcastTalkPython' is PodcastTalkPython    635\n",
      "dtype: int64-- \n",
      " The Column name is 'PodcastWebAhead'--\n",
      " The number of Null values for 'PodcastWebAhead' is PodcastWebAhead    633\n",
      "dtype: int64-- \n",
      " The Column name is 'ResourceBlogs'--\n",
      " The number of Null values for 'ResourceBlogs' is ResourceBlogs    634\n",
      "dtype: int64-- \n",
      " The Column name is 'ResourceBooks'--\n",
      " The number of Null values for 'ResourceBooks' is ResourceBooks    629\n",
      "dtype: int64-- \n",
      " The Column name is 'ResourceCodeWars'--\n",
      " The number of Null values for 'ResourceCodeWars' is ResourceCodeWars    485\n",
      "dtype: int64-- \n",
      " The Column name is 'ResourceCodecademy'--\n",
      " The number of Null values for 'ResourceCodecademy' is ResourceCodecademy    176\n",
      "dtype: int64-- \n",
      " The Column name is 'ResourceCoursera'--\n",
      " The number of Null values for 'ResourceCoursera' is ResourceCoursera    471\n",
      "dtype: int64-- \n",
      " The Column name is 'ResourceDevTips'--\n",
      " The number of Null values for 'ResourceDevTips' is ResourceDevTips    604\n",
      "dtype: int64-- \n",
      " The Column name is 'ResourceEdX'--\n",
      " The number of Null values for 'ResourceEdX' is ResourceEdX    524\n",
      "dtype: int64-- \n",
      " The Column name is 'ResourceEggHead'--\n",
      " The number of Null values for 'ResourceEggHead' is ResourceEggHead    631\n",
      "dtype: int64-- \n",
      " The Column name is 'ResourceFCC'--\n",
      " The number of Null values for 'ResourceFCC' is ResourceFCC    336\n",
      "dtype: int64-- \n",
      " The Column name is 'ResourceGoogle'--\n",
      " The number of Null values for 'ResourceGoogle' is ResourceGoogle    635\n",
      "dtype: int64-- \n",
      " The Column name is 'ResourceHackerRank'--\n",
      " The number of Null values for 'ResourceHackerRank' is ResourceHackerRank    635\n",
      "dtype: int64-- \n",
      " The Column name is 'ResourceKhanAcademy'--\n",
      " The number of Null values for 'ResourceKhanAcademy' is ResourceKhanAcademy    486\n",
      "dtype: int64-- \n",
      " The Column name is 'ResourceLynda'--\n",
      " The number of Null values for 'ResourceLynda' is ResourceLynda    627\n",
      "dtype: int64-- \n",
      " The Column name is 'ResourceMDN'--\n",
      " The number of Null values for 'ResourceMDN' is ResourceMDN    634\n",
      "dtype: int64-- \n",
      " The Column name is 'ResourceOdinProj'--\n",
      " The number of Null values for 'ResourceOdinProj' is ResourceOdinProj    528\n",
      "dtype: int64-- \n",
      " The Column name is 'ResourceOther'--\n",
      " The number of Null values for 'ResourceOther' is ResourceOther    530\n",
      "dtype: int64-- \n",
      " The Column name is 'ResourcePluralSight'--\n",
      " The number of Null values for 'ResourcePluralSight' is ResourcePluralSight    339\n",
      "dtype: int64-- \n",
      " The Column name is 'ResourceReddit'--\n",
      " The number of Null values for 'ResourceReddit' is ResourceReddit    635\n",
      "dtype: int64-- \n",
      " The Column name is 'ResourceSkillCrush'--\n",
      " The number of Null values for 'ResourceSkillCrush' is ResourceSkillCrush    634\n",
      "dtype: int64-- \n",
      " The Column name is 'ResourceSoloLearn'--\n",
      " The number of Null values for 'ResourceSoloLearn' is ResourceSoloLearn    635\n",
      "dtype: int64-- \n",
      " The Column name is 'ResourceStackOverflow'--\n",
      " The number of Null values for 'ResourceStackOverflow' is ResourceStackOverflow    630\n",
      "dtype: int64-- \n",
      " The Column name is 'ResourceTreehouse'--\n",
      " The number of Null values for 'ResourceTreehouse' is ResourceTreehouse    600\n",
      "dtype: int64-- \n",
      " The Column name is 'ResourceUdacity'--\n",
      " The number of Null values for 'ResourceUdacity' is ResourceUdacity    516\n",
      "dtype: int64-- \n",
      " The Column name is 'ResourceUdemy'--\n",
      " The number of Null values for 'ResourceUdemy' is ResourceUdemy    437\n",
      "dtype: int64-- \n",
      " The Column name is 'ResourceW3Schools'--\n",
      " The number of Null values for 'ResourceW3Schools' is ResourceW3Schools    635\n",
      "dtype: int64-- \n",
      " The Column name is 'ResourceYouTube'--\n",
      " The number of Null values for 'ResourceYouTube' is ResourceYouTube    634\n",
      "dtype: int64-- \n",
      " The Column name is 'SchoolDegree'--\n",
      " The number of Null values for 'SchoolDegree' is SchoolDegree    83\n",
      "dtype: int64-- \n",
      " The Column name is 'SchoolMajor'--\n",
      " The number of Null values for 'SchoolMajor' is SchoolMajor    202\n",
      "dtype: int64-- \n",
      " The Column name is 'StudentDebtOwe'--\n",
      " The number of Null values for 'StudentDebtOwe' is StudentDebtOwe    428\n",
      "dtype: int64-- \n"
     ]
    }
   ],
   "source": [
    "\n",
    "for i in range(0,len(df.columns)):\n",
    "    print \" The Column name is %r--\" %df_FTE.columns[i]\n",
    "    print \" The number of Null values for %r is % r-- \" %(df_FTE.columns[i] , df_FTE[[i]].isnull().sum())\n",
    "    df_null_num.ix[i , 'Column'] = df_FTE.columns[i]\n",
    "    df_null_num.ix[i , 'Number'] = pd.to_numeric(df_FTE[[i]].isnull().sum().values)\n",
    "    \n",
    "\n",
    "\n",
    "    "
   ]
  },
  {
   "cell_type": "code",
   "execution_count": 25,
   "metadata": {
    "collapsed": false
   },
   "outputs": [
    {
     "data": {
      "text/plain": [
       "<matplotlib.axes._subplots.AxesSubplot at 0x11a76bc10>"
      ]
     },
     "execution_count": 25,
     "metadata": {},
     "output_type": "execute_result"
    },
    {
     "data": {
      "image/png": "[encoded data removed]",
      "text/plain": [
       "<matplotlib.figure.Figure at 0x11b8c2450>"
      ]
     },
     "metadata": {},
     "output_type": "display_data"
    }
   ],
   "source": [
    "#Majority of the features have NULL values between 400 ,600 . Dropping the features that have more than 300 NULL values\n",
    "sns.violinplot(data = df_null_num)"
   ]
  },
  {
   "cell_type": "code",
   "execution_count": 26,
   "metadata": {
    "collapsed": false,
    "scrolled": true
   },
   "outputs": [],
   "source": [
    "#There seems to be a lot of redeundant features  \n",
    "df_feature = df_null_num[(df_null_num.Number < 300)]"
   ]
  },
  {
   "cell_type": "code",
   "execution_count": 27,
   "metadata": {
    "collapsed": false
   },
   "outputs": [
    {
     "data": {
      "text/html": [
       "<div>\n",
       "<table border=\"1\" class=\"dataframe\">\n",
       "  <thead>\n",
       "    <tr style=\"text-align: right;\">\n",
       "      <th></th>\n",
       "      <th>Column</th>\n",
       "      <th>Number</th>\n",
       "    </tr>\n",
       "  </thead>\n",
       "  <tbody>\n",
       "    <tr>\n",
       "      <th>0</th>\n",
       "      <td>Age</td>\n",
       "      <td>90.0</td>\n",
       "    </tr>\n",
       "    <tr>\n",
       "      <th>1</th>\n",
       "      <td>AttendedBootcamp</td>\n",
       "      <td>0.0</td>\n",
       "    </tr>\n",
       "    <tr>\n",
       "      <th>2</th>\n",
       "      <td>BootcampFinish</td>\n",
       "      <td>0.0</td>\n",
       "    </tr>\n",
       "    <tr>\n",
       "      <th>3</th>\n",
       "      <td>BootcampFullJobAfter</td>\n",
       "      <td>0.0</td>\n",
       "    </tr>\n",
       "    <tr>\n",
       "      <th>4</th>\n",
       "      <td>BootcampLoanYesNo</td>\n",
       "      <td>7.0</td>\n",
       "    </tr>\n",
       "    <tr>\n",
       "      <th>5</th>\n",
       "      <td>BootcampMonthsAgo</td>\n",
       "      <td>11.0</td>\n",
       "    </tr>\n",
       "    <tr>\n",
       "      <th>6</th>\n",
       "      <td>BootcampName</td>\n",
       "      <td>21.0</td>\n",
       "    </tr>\n",
       "    <tr>\n",
       "      <th>...</th>\n",
       "      <td>...</td>\n",
       "      <td>...</td>\n",
       "    </tr>\n",
       "    <tr>\n",
       "      <th>65</th>\n",
       "      <td>Part1StartTime</td>\n",
       "      <td>0.0</td>\n",
       "    </tr>\n",
       "    <tr>\n",
       "      <th>66</th>\n",
       "      <td>Part2EndTime</td>\n",
       "      <td>78.0</td>\n",
       "    </tr>\n",
       "    <tr>\n",
       "      <th>67</th>\n",
       "      <td>Part2StartTime</td>\n",
       "      <td>78.0</td>\n",
       "    </tr>\n",
       "    <tr>\n",
       "      <th>76</th>\n",
       "      <td>PodcastNone</td>\n",
       "      <td>274.0</td>\n",
       "    </tr>\n",
       "    <tr>\n",
       "      <th>87</th>\n",
       "      <td>ResourceCodecademy</td>\n",
       "      <td>176.0</td>\n",
       "    </tr>\n",
       "    <tr>\n",
       "      <th>110</th>\n",
       "      <td>SchoolDegree</td>\n",
       "      <td>83.0</td>\n",
       "    </tr>\n",
       "    <tr>\n",
       "      <th>111</th>\n",
       "      <td>SchoolMajor</td>\n",
       "      <td>202.0</td>\n",
       "    </tr>\n",
       "  </tbody>\n",
       "</table>\n",
       "<p>38 rows × 2 columns</p>\n",
       "</div>"
      ],
      "text/plain": [
       "                   Column  Number\n",
       "0                     Age    90.0\n",
       "1        AttendedBootcamp     0.0\n",
       "2          BootcampFinish     0.0\n",
       "3    BootcampFullJobAfter     0.0\n",
       "4       BootcampLoanYesNo     7.0\n",
       "5       BootcampMonthsAgo    11.0\n",
       "6            BootcampName    21.0\n",
       "..                    ...     ...\n",
       "65         Part1StartTime     0.0\n",
       "66           Part2EndTime    78.0\n",
       "67         Part2StartTime    78.0\n",
       "76            PodcastNone   274.0\n",
       "87     ResourceCodecademy   176.0\n",
       "110          SchoolDegree    83.0\n",
       "111           SchoolMajor   202.0\n",
       "\n",
       "[38 rows x 2 columns]"
      ]
     },
     "execution_count": 27,
     "metadata": {},
     "output_type": "execute_result"
    }
   ],
   "source": [
    "\n",
    "df_feature"
   ]
  },
  {
   "cell_type": "code",
   "execution_count": 28,
   "metadata": {
    "collapsed": true
   },
   "outputs": [],
   "source": [
    "# Checking each of the Attributes that are associated with the    FTE"
   ]
  },
  {
   "cell_type": "code",
   "execution_count": 29,
   "metadata": {
    "collapsed": false
   },
   "outputs": [
    {
     "data": {
      "text/html": [
       "<div>\n",
       "<table border=\"1\" class=\"dataframe\">\n",
       "  <thead>\n",
       "    <tr style=\"text-align: right;\">\n",
       "      <th></th>\n",
       "      <th>Age</th>\n",
       "    </tr>\n",
       "  </thead>\n",
       "  <tbody>\n",
       "    <tr>\n",
       "      <th>93</th>\n",
       "      <td>32.0</td>\n",
       "    </tr>\n",
       "    <tr>\n",
       "      <th>97</th>\n",
       "      <td>26.0</td>\n",
       "    </tr>\n",
       "    <tr>\n",
       "      <th>130</th>\n",
       "      <td>41.0</td>\n",
       "    </tr>\n",
       "    <tr>\n",
       "      <th>159</th>\n",
       "      <td>26.0</td>\n",
       "    </tr>\n",
       "    <tr>\n",
       "      <th>206</th>\n",
       "      <td>36.0</td>\n",
       "    </tr>\n",
       "    <tr>\n",
       "      <th>209</th>\n",
       "      <td>25.0</td>\n",
       "    </tr>\n",
       "    <tr>\n",
       "      <th>236</th>\n",
       "      <td>52.0</td>\n",
       "    </tr>\n",
       "    <tr>\n",
       "      <th>...</th>\n",
       "      <td>...</td>\n",
       "    </tr>\n",
       "    <tr>\n",
       "      <th>15412</th>\n",
       "      <td>24.0</td>\n",
       "    </tr>\n",
       "    <tr>\n",
       "      <th>15420</th>\n",
       "      <td>25.0</td>\n",
       "    </tr>\n",
       "    <tr>\n",
       "      <th>15421</th>\n",
       "      <td>22.0</td>\n",
       "    </tr>\n",
       "    <tr>\n",
       "      <th>15539</th>\n",
       "      <td>39.0</td>\n",
       "    </tr>\n",
       "    <tr>\n",
       "      <th>15540</th>\n",
       "      <td>24.0</td>\n",
       "    </tr>\n",
       "    <tr>\n",
       "      <th>15541</th>\n",
       "      <td>23.0</td>\n",
       "    </tr>\n",
       "    <tr>\n",
       "      <th>15600</th>\n",
       "      <td>28.0</td>\n",
       "    </tr>\n",
       "  </tbody>\n",
       "</table>\n",
       "<p>635 rows × 1 columns</p>\n",
       "</div>"
      ],
      "text/plain": [
       "        Age\n",
       "93     32.0\n",
       "97     26.0\n",
       "130    41.0\n",
       "159    26.0\n",
       "206    36.0\n",
       "209    25.0\n",
       "236    52.0\n",
       "...     ...\n",
       "15412  24.0\n",
       "15420  25.0\n",
       "15421  22.0\n",
       "15539  39.0\n",
       "15540  24.0\n",
       "15541  23.0\n",
       "15600  28.0\n",
       "\n",
       "[635 rows x 1 columns]"
      ]
     },
     "execution_count": 29,
     "metadata": {},
     "output_type": "execute_result"
    }
   ],
   "source": [
    "df_FTE[[0]]"
   ]
  },
  {
   "cell_type": "markdown",
   "metadata": {},
   "source": []
  },
  {
   "cell_type": "code",
   "execution_count": 30,
   "metadata": {
    "collapsed": false
   },
   "outputs": [
    {
     "data": {
      "text/plain": [
       "<matplotlib.axes._subplots.AxesSubplot at 0x11a4af690>"
      ]
     },
     "execution_count": 30,
     "metadata": {},
     "output_type": "execute_result"
    },
    {
     "data": {
      "image/png": "[encoded data removed]",
      "text/plain": [
       "<matplotlib.figure.Figure at 0x11a760bd0>"
      ]
     },
     "metadata": {},
     "output_type": "display_data"
    }
   ],
   "source": [
    "plt.figure(figsize=(20,10))\n",
    "\n",
    "sns.boxplot(data = df_FTE[[0]])"
   ]
  },
  {
   "cell_type": "code",
   "execution_count": 31,
   "metadata": {
    "collapsed": false
   },
   "outputs": [
    {
     "data": {
      "text/plain": [
       "<matplotlib.axes._subplots.AxesSubplot at 0x11b8c2790>"
      ]
     },
     "execution_count": 31,
     "metadata": {},
     "output_type": "execute_result"
    },
    {
     "data": {
      "image/png": "[encoded data removed]",
      "text/plain": [
       "<matplotlib.figure.Figure at 0x11b8c2b10>"
      ]
     },
     "metadata": {},
     "output_type": "display_data"
    }
   ],
   "source": [
    "sns.violinplot(data = df_FTE[[0]])"
   ]
  },
  {
   "cell_type": "code",
   "execution_count": null,
   "metadata": {
    "collapsed": true
   },
   "outputs": [],
   "source": []
  },
  {
   "cell_type": "markdown",
   "metadata": {},
   "source": [
    "- Median age of people who received FTE after a Boot camp is 30\n",
    "- There are a few outliers in the data for peopek who have received the FTE after the median age.\n",
    "- Majority of the People who are enrolling in the bootcamp are in the age 20-30\n"
   ]
  },
  {
   "cell_type": "code",
   "execution_count": 32,
   "metadata": {
    "collapsed": false,
    "scrolled": true
   },
   "outputs": [
    {
     "data": {
      "text/plain": [
       "AttendedBootcamp    0\n",
       "dtype: int64"
      ]
     },
     "execution_count": 32,
     "metadata": {},
     "output_type": "execute_result"
    }
   ],
   "source": [
    "df_FTE[[1]].isnull().sum()"
   ]
  },
  {
   "cell_type": "code",
   "execution_count": null,
   "metadata": {
    "collapsed": true
   },
   "outputs": [],
   "source": []
  },
  {
   "cell_type": "code",
   "execution_count": 33,
   "metadata": {
    "collapsed": false,
    "scrolled": true
   },
   "outputs": [
    {
     "data": {
      "text/html": [
       "<div>\n",
       "<table border=\"1\" class=\"dataframe\">\n",
       "  <thead>\n",
       "    <tr style=\"text-align: right;\">\n",
       "      <th></th>\n",
       "      <th>BootcampFinish</th>\n",
       "    </tr>\n",
       "  </thead>\n",
       "  <tbody>\n",
       "    <tr>\n",
       "      <th>count</th>\n",
       "      <td>635.0</td>\n",
       "    </tr>\n",
       "    <tr>\n",
       "      <th>mean</th>\n",
       "      <td>1.0</td>\n",
       "    </tr>\n",
       "    <tr>\n",
       "      <th>std</th>\n",
       "      <td>0.0</td>\n",
       "    </tr>\n",
       "    <tr>\n",
       "      <th>min</th>\n",
       "      <td>1.0</td>\n",
       "    </tr>\n",
       "    <tr>\n",
       "      <th>25%</th>\n",
       "      <td>1.0</td>\n",
       "    </tr>\n",
       "    <tr>\n",
       "      <th>50%</th>\n",
       "      <td>1.0</td>\n",
       "    </tr>\n",
       "    <tr>\n",
       "      <th>75%</th>\n",
       "      <td>1.0</td>\n",
       "    </tr>\n",
       "    <tr>\n",
       "      <th>max</th>\n",
       "      <td>1.0</td>\n",
       "    </tr>\n",
       "  </tbody>\n",
       "</table>\n",
       "</div>"
      ],
      "text/plain": [
       "       BootcampFinish\n",
       "count           635.0\n",
       "mean              1.0\n",
       "std               0.0\n",
       "min               1.0\n",
       "25%               1.0\n",
       "50%               1.0\n",
       "75%               1.0\n",
       "max               1.0"
      ]
     },
     "execution_count": 33,
     "metadata": {},
     "output_type": "execute_result"
    }
   ],
   "source": [
    "df_FTE[['BootcampFinish']].describe()"
   ]
  },
  {
   "cell_type": "markdown",
   "metadata": {},
   "source": [
    "## FTE, Boot Camp and Loan"
   ]
  },
  {
   "cell_type": "code",
   "execution_count": 34,
   "metadata": {
    "collapsed": false
   },
   "outputs": [
    {
     "data": {
      "text/plain": [
       "0.0    409\n",
       "1.0    219\n",
       "Name: BootcampLoanYesNo, dtype: int64"
      ]
     },
     "execution_count": 34,
     "metadata": {},
     "output_type": "execute_result"
    }
   ],
   "source": [
    "df_FTE['BootcampLoanYesNo'].value_counts()"
   ]
  },
  {
   "cell_type": "markdown",
   "metadata": {},
   "source": [
    "- out of All the people who got full time employment after a Bootcamp 219 took loans"
   ]
  },
  {
   "cell_type": "markdown",
   "metadata": {},
   "source": [
    "## Plotting relationship between FTE and Boot camp Job"
   ]
  },
  {
   "cell_type": "code",
   "execution_count": 35,
   "metadata": {
    "collapsed": false
   },
   "outputs": [
    {
     "data": {
      "text/plain": [
       "<matplotlib.axes._subplots.AxesSubplot at 0x11d398950>"
      ]
     },
     "execution_count": 35,
     "metadata": {},
     "output_type": "execute_result"
    },
    {
     "data": {
      "image/png": "[encoded data removed]",
      "text/plain": [
       "<matplotlib.figure.Figure at 0x11d339d10>"
      ]
     },
     "metadata": {},
     "output_type": "display_data"
    }
   ],
   "source": [
    "sns.countplot(data = df_FTE,x = 'BootcampFullJobAfter' , hue = 'BootcampLoanYesNo'   ,orient = 'h')"
   ]
  },
  {
   "cell_type": "code",
   "execution_count": null,
   "metadata": {
    "collapsed": true
   },
   "outputs": [],
   "source": []
  },
  {
   "cell_type": "markdown",
   "metadata": {},
   "source": [
    "- Appears that in isolation , people who took the loan had more chances of getting into a job after the Boot Camp was over"
   ]
  },
  {
   "cell_type": "code",
   "execution_count": 36,
   "metadata": {
    "collapsed": false
   },
   "outputs": [
    {
     "ename": "NameError",
     "evalue": "name 'BootcampMonthsAgo' is not defined",
     "output_type": "error",
     "traceback": [
      "\u001b[0;31m---------------------------------------------------------------------------\u001b[0m",
      "\u001b[0;31mNameError\u001b[0m                                 Traceback (most recent call last)",
      "\u001b[0;32m<ipython-input-36-d2af6d0ce258>\u001b[0m in \u001b[0;36m<module>\u001b[0;34m()\u001b[0m\n\u001b[0;32m----> 1\u001b[0;31m \u001b[0mBootcampMonthsAgo\u001b[0m\u001b[0;34m\u001b[0m\u001b[0m\n\u001b[0m",
      "\u001b[0;31mNameError\u001b[0m: name 'BootcampMonthsAgo' is not defined"
     ]
    }
   ],
   "source": [
    "BootcampMonthsAgo"
   ]
  },
  {
   "cell_type": "code",
   "execution_count": null,
   "metadata": {
    "collapsed": false,
    "scrolled": true
   },
   "outputs": [],
   "source": [
    "plt.figure(figsize=(20,10))\n",
    "sns.countplot(data = df_FTE , y = 'BootcampMonthsAgo' , hue = 'BootcampFullJobAfter'   ,orient = 'h')"
   ]
  },
  {
   "cell_type": "markdown",
   "metadata": {},
   "source": [
    "- The chances of getting into a Full time job are none after 36 months of finishing a Boot camp"
   ]
  },
  {
   "cell_type": "code",
   "execution_count": null,
   "metadata": {
    "collapsed": false
   },
   "outputs": [],
   "source": [
    "df_feature"
   ]
  },
  {
   "cell_type": "code",
   "execution_count": null,
   "metadata": {
    "collapsed": false
   },
   "outputs": [],
   "source": [
    "df_FTE.columns"
   ]
  },
  {
   "cell_type": "code",
   "execution_count": null,
   "metadata": {
    "collapsed": false
   },
   "outputs": [],
   "source": [
    "df_FTE[['BootcampPostSalary']].describe()"
   ]
  },
  {
   "cell_type": "code",
   "execution_count": null,
   "metadata": {
    "collapsed": false
   },
   "outputs": [],
   "source": [
    "sns.pointplot(x = 'Age' , y = 'BootcampPostSalary' , data = df_FTE )"
   ]
  },
  {
   "cell_type": "markdown",
   "metadata": {
    "collapsed": true
   },
   "source": [
    "# Lets try running the K best features"
   ]
  },
  {
   "cell_type": "code",
   "execution_count": null,
   "metadata": {
    "collapsed": false
   },
   "outputs": [],
   "source": [
    "df_FTE.head()"
   ]
  },
  {
   "cell_type": "code",
   "execution_count": null,
   "metadata": {
    "collapsed": false
   },
   "outputs": [],
   "source": [
    "from sklearn.feature_selection import SelectKBest ,chi2 \n",
    "X_scaled = SelectKBest(chi2)"
   ]
  },
  {
   "cell_type": "code",
   "execution_count": null,
   "metadata": {
    "collapsed": true
   },
   "outputs": [],
   "source": []
  },
  {
   "cell_type": "code",
   "execution_count": null,
   "metadata": {
    "collapsed": true
   },
   "outputs": [],
   "source": []
  },
  {
   "cell_type": "code",
   "execution_count": null,
   "metadata": {
    "collapsed": true
   },
   "outputs": [],
   "source": []
  },
  {
   "cell_type": "code",
   "execution_count": null,
   "metadata": {
    "collapsed": true
   },
   "outputs": [],
   "source": []
  },
  {
   "cell_type": "code",
   "execution_count": null,
   "metadata": {
    "collapsed": true
   },
   "outputs": [],
   "source": []
  },
  {
   "cell_type": "code",
   "execution_count": null,
   "metadata": {
    "collapsed": true
   },
   "outputs": [],
   "source": []
  },
  {
   "cell_type": "code",
   "execution_count": null,
   "metadata": {
    "collapsed": true
   },
   "outputs": [],
   "source": []
  }
 ],
 "metadata": {
  "kernelspec": {
   "display_name": "Python 2",
   "language": "python",
   "name": "python2"
  },
  "language_info": {
   "codemirror_mode": {
    "name": "ipython",
    "version": 2
   },
   "file_extension": ".py",
   "mimetype": "text/x-python",
   "name": "python",
   "nbconvert_exporter": "python",
   "pygments_lexer": "ipython2",
   "version": "2.7.11"
  }
 },
 "nbformat": 4,
 "nbformat_minor": 0
}
