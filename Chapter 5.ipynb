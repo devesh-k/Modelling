{
 "cells": [
  {
   "cell_type": "code",
   "execution_count": 103,
   "metadata": {
    "collapsed": false
   },
   "outputs": [],
   "source": [
    "import os\n",
    "import numpy as np\n",
    "#import statistics as stats\n",
    "import pandas as pd\n",
    "import csv\n",
    "import matplotlib.pyplot as plt\n",
    "import seaborn as sns\n",
    "import statsmodels.api as sm\n",
    "import statsmodels.formula.api as smf\n",
    "from sklearn import feature_selection, linear_model , metrics,discriminant_analysis , preprocessing , neighbors , cross_validation\n",
    "from sklearn import utils\n",
    "pd.set_option('display.max_rows', 15)\n",
    "pd.set_option('display.notebook_repr_html', True)\n",
    "pd.set_option('display.max_columns', 15)\n",
    "\n",
    "%matplotlib inline\n",
    "plt.style.use('ggplot')"
   ]
  },
  {
   "cell_type": "code",
   "execution_count": 3,
   "metadata": {
    "collapsed": false
   },
   "outputs": [
    {
     "data": {
      "text/plain": [
       "<mtrand.RandomState at 0x104b3e3d0>"
      ]
     },
     "execution_count": 3,
     "metadata": {},
     "output_type": "execute_result"
    }
   ],
   "source": [
    "utils.check_random_state(1)"
   ]
  },
  {
   "cell_type": "code",
   "execution_count": 4,
   "metadata": {
    "collapsed": true
   },
   "outputs": [],
   "source": [
    "#Reading the dataset\n",
    "df = pd.read_csv(\"Auto.csv\")"
   ]
  },
  {
   "cell_type": "code",
   "execution_count": 5,
   "metadata": {
    "collapsed": false
   },
   "outputs": [
    {
     "data": {
      "text/plain": [
       "int64      4\n",
       "float64    3\n",
       "object     2\n",
       "dtype: int64"
      ]
     },
     "execution_count": 5,
     "metadata": {},
     "output_type": "execute_result"
    }
   ],
   "source": [
    "#Checking the Data types\n",
    "df.dtypes.value_counts()"
   ]
  },
  {
   "cell_type": "code",
   "execution_count": 6,
   "metadata": {
    "collapsed": false
   },
   "outputs": [
    {
     "data": {
      "text/plain": [
       "horsepower    object\n",
       "name          object\n",
       "dtype: object"
      ]
     },
     "execution_count": 6,
     "metadata": {},
     "output_type": "execute_result"
    }
   ],
   "source": [
    "#Checking which of the features are object\n",
    "df.dtypes[df.dtypes == 'object']"
   ]
  },
  {
   "cell_type": "code",
   "execution_count": 7,
   "metadata": {
    "collapsed": false
   },
   "outputs": [
    {
     "data": {
      "text/plain": [
       "5"
      ]
     },
     "execution_count": 7,
     "metadata": {},
     "output_type": "execute_result"
    }
   ],
   "source": [
    "#Converting to numeric and forcing errors to be NANs\n",
    "df.horsepower = pd.to_numeric(df.horsepower , 'coerce')\n",
    "df.horsepower.isnull().sum()"
   ]
  },
  {
   "cell_type": "code",
   "execution_count": 8,
   "metadata": {
    "collapsed": true
   },
   "outputs": [],
   "source": [
    "df.dropna(inplace = True)"
   ]
  },
  {
   "cell_type": "code",
   "execution_count": 9,
   "metadata": {
    "collapsed": false
   },
   "outputs": [
    {
     "data": {
      "text/plain": [
       "392"
      ]
     },
     "execution_count": 9,
     "metadata": {},
     "output_type": "execute_result"
    }
   ],
   "source": [
    "len(df)"
   ]
  },
  {
   "cell_type": "code",
   "execution_count": 10,
   "metadata": {
    "collapsed": true
   },
   "outputs": [],
   "source": [
    "train_df = df.sample(frac = .5).sort_index()"
   ]
  },
  {
   "cell_type": "code",
   "execution_count": 11,
   "metadata": {
    "collapsed": false
   },
   "outputs": [
    {
     "data": {
      "text/plain": [
       "196"
      ]
     },
     "execution_count": 11,
     "metadata": {},
     "output_type": "execute_result"
    }
   ],
   "source": [
    "len(train_df)"
   ]
  },
  {
   "cell_type": "code",
   "execution_count": 12,
   "metadata": {
    "collapsed": false
   },
   "outputs": [
    {
     "data": {
      "text/html": [
       "<div>\n",
       "<table border=\"1\" class=\"dataframe\">\n",
       "  <thead>\n",
       "    <tr style=\"text-align: right;\">\n",
       "      <th></th>\n",
       "      <th>mpg</th>\n",
       "      <th>cylinders</th>\n",
       "      <th>displacement</th>\n",
       "      <th>horsepower</th>\n",
       "      <th>weight</th>\n",
       "      <th>acceleration</th>\n",
       "      <th>year</th>\n",
       "      <th>origin</th>\n",
       "      <th>name</th>\n",
       "    </tr>\n",
       "  </thead>\n",
       "  <tbody>\n",
       "    <tr>\n",
       "      <th>3</th>\n",
       "      <td>16.0</td>\n",
       "      <td>8</td>\n",
       "      <td>304.0</td>\n",
       "      <td>150.0</td>\n",
       "      <td>3433</td>\n",
       "      <td>12.0</td>\n",
       "      <td>70</td>\n",
       "      <td>1</td>\n",
       "      <td>amc rebel sst</td>\n",
       "    </tr>\n",
       "    <tr>\n",
       "      <th>4</th>\n",
       "      <td>17.0</td>\n",
       "      <td>8</td>\n",
       "      <td>302.0</td>\n",
       "      <td>140.0</td>\n",
       "      <td>3449</td>\n",
       "      <td>10.5</td>\n",
       "      <td>70</td>\n",
       "      <td>1</td>\n",
       "      <td>ford torino</td>\n",
       "    </tr>\n",
       "    <tr>\n",
       "      <th>5</th>\n",
       "      <td>15.0</td>\n",
       "      <td>8</td>\n",
       "      <td>429.0</td>\n",
       "      <td>198.0</td>\n",
       "      <td>4341</td>\n",
       "      <td>10.0</td>\n",
       "      <td>70</td>\n",
       "      <td>1</td>\n",
       "      <td>ford galaxie 500</td>\n",
       "    </tr>\n",
       "    <tr>\n",
       "      <th>11</th>\n",
       "      <td>14.0</td>\n",
       "      <td>8</td>\n",
       "      <td>340.0</td>\n",
       "      <td>160.0</td>\n",
       "      <td>3609</td>\n",
       "      <td>8.0</td>\n",
       "      <td>70</td>\n",
       "      <td>1</td>\n",
       "      <td>plymouth 'cuda 340</td>\n",
       "    </tr>\n",
       "    <tr>\n",
       "      <th>14</th>\n",
       "      <td>24.0</td>\n",
       "      <td>4</td>\n",
       "      <td>113.0</td>\n",
       "      <td>95.0</td>\n",
       "      <td>2372</td>\n",
       "      <td>15.0</td>\n",
       "      <td>70</td>\n",
       "      <td>3</td>\n",
       "      <td>toyota corona mark ii</td>\n",
       "    </tr>\n",
       "  </tbody>\n",
       "</table>\n",
       "</div>"
      ],
      "text/plain": [
       "     mpg  cylinders  displacement  horsepower  weight  acceleration  year  \\\n",
       "3   16.0          8         304.0       150.0    3433          12.0    70   \n",
       "4   17.0          8         302.0       140.0    3449          10.5    70   \n",
       "5   15.0          8         429.0       198.0    4341          10.0    70   \n",
       "11  14.0          8         340.0       160.0    3609           8.0    70   \n",
       "14  24.0          4         113.0        95.0    2372          15.0    70   \n",
       "\n",
       "    origin                   name  \n",
       "3        1          amc rebel sst  \n",
       "4        1            ford torino  \n",
       "5        1       ford galaxie 500  \n",
       "11       1     plymouth 'cuda 340  \n",
       "14       3  toyota corona mark ii  "
      ]
     },
     "execution_count": 12,
     "metadata": {},
     "output_type": "execute_result"
    }
   ],
   "source": [
    "train_df.head(5)"
   ]
  },
  {
   "cell_type": "code",
   "execution_count": 13,
   "metadata": {
    "collapsed": true
   },
   "outputs": [],
   "source": [
    "model_linear = smf.ols(formula = 'mpg ~ horsepower' , data = train_df).fit()"
   ]
  },
  {
   "cell_type": "code",
   "execution_count": 14,
   "metadata": {
    "collapsed": false
   },
   "outputs": [
    {
     "data": {
      "text/plain": [
       "Int64Index([  3,   4,   5,  11,  14,  15,  16,  17,  20,  21,\n",
       "            ...\n",
       "            381, 386, 387, 388, 389, 390, 391, 392, 393, 394],\n",
       "           dtype='int64', length=196)"
      ]
     },
     "execution_count": 14,
     "metadata": {},
     "output_type": "execute_result"
    }
   ],
   "source": [
    "train_df.index "
   ]
  },
  {
   "cell_type": "code",
   "execution_count": 15,
   "metadata": {
    "collapsed": false
   },
   "outputs": [
    {
     "data": {
      "text/plain": [
       "4"
      ]
     },
     "execution_count": 15,
     "metadata": {},
     "output_type": "execute_result"
    }
   ],
   "source": [
    "train_df.index[1]"
   ]
  },
  {
   "cell_type": "code",
   "execution_count": 16,
   "metadata": {
    "collapsed": false
   },
   "outputs": [
    {
     "ename": "NameError",
     "evalue": "name 'df_val' is not defined",
     "output_type": "error",
     "traceback": [
      "\u001b[0;31m---------------------------------------------------------------------------\u001b[0m",
      "\u001b[0;31mNameError\u001b[0m                                 Traceback (most recent call last)",
      "\u001b[0;32m<ipython-input-16-b2ec5b6b8018>\u001b[0m in \u001b[0;36m<module>\u001b[0;34m()\u001b[0m\n\u001b[1;32m      7\u001b[0m \u001b[0;34m\u001b[0m\u001b[0m\n\u001b[1;32m      8\u001b[0m \u001b[0;34m\u001b[0m\u001b[0m\n\u001b[0;32m----> 9\u001b[0;31m         \u001b[0mdf_val\u001b[0m \u001b[0;34m=\u001b[0m \u001b[0mpd\u001b[0m\u001b[0;34m.\u001b[0m\u001b[0mDataFrame\u001b[0m\u001b[0;34m.\u001b[0m\u001b[0mappend\u001b[0m\u001b[0;34m(\u001b[0m\u001b[0mdf_val\u001b[0m \u001b[0;34m,\u001b[0m \u001b[0mdf\u001b[0m\u001b[0;34m.\u001b[0m\u001b[0mix\u001b[0m\u001b[0;34m[\u001b[0m\u001b[0;34m[\u001b[0m\u001b[0mi\u001b[0m\u001b[0;34m]\u001b[0m\u001b[0;34m]\u001b[0m \u001b[0;34m,\u001b[0m \u001b[0mignore_index\u001b[0m\u001b[0;34m=\u001b[0m\u001b[0mFalse\u001b[0m \u001b[0;34m,\u001b[0m \u001b[0mverify_integrity\u001b[0m\u001b[0;34m=\u001b[0m\u001b[0mFalse\u001b[0m\u001b[0;34m)\u001b[0m\u001b[0;34m\u001b[0m\u001b[0m\n\u001b[0m\u001b[1;32m     10\u001b[0m         \u001b[0;31m#pd.concat(df_val , temp)\u001b[0m\u001b[0;34m\u001b[0m\u001b[0;34m\u001b[0m\u001b[0m\n",
      "\u001b[0;31mNameError\u001b[0m: name 'df_val' is not defined"
     ]
    }
   ],
   "source": [
    "j = 0\n",
    "for i in range(0 , len(train_df)):\n",
    "    if i ==train_df.index[i]:\n",
    "        print  i\n",
    "        continue \n",
    "    else:\n",
    "        \n",
    "        \n",
    "        df_val = pd.DataFrame.append(df_val , df.ix[[i]] , ignore_index=False , verify_integrity=False) \n",
    "        #pd.concat(df_val , temp)"
   ]
  },
  {
   "cell_type": "code",
   "execution_count": null,
   "metadata": {
    "collapsed": false
   },
   "outputs": [],
   "source": [
    "len(df_val)"
   ]
  },
  {
   "cell_type": "markdown",
   "metadata": {},
   "source": [
    "# Bootstrap"
   ]
  },
  {
   "cell_type": "code",
   "execution_count": 98,
   "metadata": {
    "collapsed": false
   },
   "outputs": [],
   "source": [
    "# Computing the statistics of Intrest\n",
    "#Difference in the mean of 2 returns\n",
    "def alpha_fn(x , y):\n",
    "    \n",
    "    X = x\n",
    "    print \"Length of X is %r\" %len(X)\n",
    "    Y = y\n",
    "    print \"Length of Y is %r\" %len(Y)\n",
    "    \n",
    "    print \"mean of X is %r\" %X.mean()\n",
    "    print \"mean of Y is %r\" %Y.mean()\n",
    "    \n",
    "    mean_x = X.mean()\n",
    "    mean_y = Y.mean()\n",
    "    print \"return value %r\" %(mean_x - mean_y)\n",
    "    return (mean_x - mean_y)\n",
    "    "
   ]
  },
  {
   "cell_type": "code",
   "execution_count": 99,
   "metadata": {
    "collapsed": false
   },
   "outputs": [],
   "source": [
    "df_prtf = pd.read_csv(\"Portfolio.csv\")"
   ]
  },
  {
   "cell_type": "code",
   "execution_count": 100,
   "metadata": {
    "collapsed": false
   },
   "outputs": [
    {
     "name": "stdout",
     "output_type": "stream",
     "text": [
      "Length of X is 97\n",
      "Length of Y is 97\n",
      "mean of X is 119.54567010309279\n",
      "mean of Y is 111.34443298969074\n",
      "return value 8.201237113402044\n",
      "8.2012371134\n"
     ]
    }
   ],
   "source": [
    "alpha = alpha_fn(df_prtf.X ,df_prtf.Y )\n",
    "print alpha"
   ]
  },
  {
   "cell_type": "code",
   "execution_count": 112,
   "metadata": {
    "collapsed": false
   },
   "outputs": [
    {
     "name": "stdout",
     "output_type": "stream",
     "text": [
      "Length of X is 78\n",
      "Length of Y is 78\n",
      "mean of X is 120.07333333333332\n",
      "mean of Y is 111.905\n",
      "return value 8.168333333333322\n",
      "Length of X is 78\n",
      "Length of Y is 78\n",
      "mean of X is 120.07333333333332\n",
      "mean of Y is 111.905\n",
      "return value 8.168333333333322\n",
      "Length of X is 78\n",
      "Length of Y is 78\n",
      "mean of X is 120.07333333333332\n",
      "mean of Y is 111.905\n",
      "return value 8.168333333333322\n",
      "Length of X is 78\n",
      "Length of Y is 78\n",
      "mean of X is 120.07333333333332\n",
      "mean of Y is 111.905\n",
      "return value 8.168333333333322\n",
      "Length of X is 78\n",
      "Length of Y is 78\n",
      "mean of X is 120.07333333333332\n",
      "mean of Y is 111.905\n",
      "return value 8.168333333333322\n",
      "Length of X is 78\n",
      "Length of Y is 78\n",
      "mean of X is 120.07333333333332\n",
      "mean of Y is 111.905\n",
      "return value 8.168333333333322\n",
      "Length of X is 78\n",
      "Length of Y is 78\n",
      "mean of X is 120.07333333333332\n",
      "mean of Y is 111.905\n",
      "return value 8.168333333333322\n",
      "Length of X is 78\n",
      "Length of Y is 78\n",
      "mean of X is 120.07333333333332\n",
      "mean of Y is 111.905\n",
      "return value 8.168333333333322\n",
      "Length of X is 78\n",
      "Length of Y is 78\n",
      "mean of X is 120.07333333333332\n",
      "mean of Y is 111.905\n",
      "return value 8.168333333333322\n",
      "Length of X is 78\n",
      "Length of Y is 78\n",
      "mean of X is 120.07333333333332\n",
      "mean of Y is 111.905\n",
      "return value 8.168333333333322\n",
      "Length of X is 78\n",
      "Length of Y is 78\n",
      "mean of X is 120.07333333333332\n",
      "mean of Y is 111.905\n",
      "return value 8.168333333333322\n",
      "Length of X is 78\n",
      "Length of Y is 78\n",
      "mean of X is 120.07333333333332\n",
      "mean of Y is 111.905\n",
      "return value 8.168333333333322\n",
      "Length of X is 78\n",
      "Length of Y is 78\n",
      "mean of X is 120.07333333333332\n",
      "mean of Y is 111.905\n",
      "return value 8.168333333333322\n",
      "Length of X is 78\n",
      "Length of Y is 78\n",
      "mean of X is 120.07333333333332\n",
      "mean of Y is 111.905\n",
      "return value 8.168333333333322\n",
      "Length of X is 78\n",
      "Length of Y is 78\n",
      "mean of X is 120.07333333333332\n",
      "mean of Y is 111.905\n",
      "return value 8.168333333333322\n",
      "Length of X is 78\n",
      "Length of Y is 78\n",
      "mean of X is 120.07333333333332\n",
      "mean of Y is 111.905\n",
      "return value 8.168333333333322\n",
      "Length of X is 78\n",
      "Length of Y is 78\n",
      "mean of X is 120.07333333333332\n",
      "mean of Y is 111.905\n",
      "return value 8.168333333333322\n",
      "Length of X is 78\n",
      "Length of Y is 78\n",
      "mean of X is 120.07333333333332\n",
      "mean of Y is 111.905\n",
      "return value 8.168333333333322\n",
      "Length of X is 78\n",
      "Length of Y is 78\n",
      "mean of X is 120.07333333333332\n",
      "mean of Y is 111.905\n",
      "return value 8.168333333333322\n",
      "Length of X is 78\n",
      "Length of Y is 78\n",
      "mean of X is 120.07333333333332\n",
      "mean of Y is 111.905\n",
      "return value 8.168333333333322\n",
      "Length of X is 78\n",
      "Length of Y is 78\n",
      "mean of X is 120.07333333333332\n",
      "mean of Y is 111.905\n",
      "return value 8.168333333333322\n",
      "Length of X is 78\n",
      "Length of Y is 78\n",
      "mean of X is 120.07333333333332\n",
      "mean of Y is 111.905\n",
      "return value 8.168333333333322\n",
      "Length of X is 78\n",
      "Length of Y is 78\n",
      "mean of X is 120.07333333333332\n",
      "mean of Y is 111.905\n",
      "return value 8.168333333333322\n",
      "Length of X is 78\n",
      "Length of Y is 78\n",
      "mean of X is 120.07333333333332\n",
      "mean of Y is 111.905\n",
      "return value 8.168333333333322\n",
      "Length of X is 78\n",
      "Length of Y is 78\n",
      "mean of X is 120.07333333333332\n",
      "mean of Y is 111.905\n",
      "return value 8.168333333333322\n",
      "Length of X is 78\n",
      "Length of Y is 78\n",
      "mean of X is 120.07333333333332\n",
      "mean of Y is 111.905\n",
      "return value 8.168333333333322\n",
      "Length of X is 78\n",
      "Length of Y is 78\n",
      "mean of X is 120.07333333333332\n",
      "mean of Y is 111.905\n",
      "return value 8.168333333333322\n",
      "Length of X is 78\n",
      "Length of Y is 78\n",
      "mean of X is 120.07333333333332\n",
      "mean of Y is 111.905\n",
      "return value 8.168333333333322\n",
      "Length of X is 78\n",
      "Length of Y is 78\n",
      "mean of X is 120.07333333333332\n",
      "mean of Y is 111.905\n",
      "return value 8.168333333333322\n",
      "Length of X is 78\n",
      "Length of Y is 78\n",
      "mean of X is 120.07333333333332\n",
      "mean of Y is 111.905\n",
      "return value 8.168333333333322\n",
      "Length of X is 78\n",
      "Length of Y is 78\n",
      "mean of X is 120.07333333333332\n",
      "mean of Y is 111.905\n",
      "return value 8.168333333333322\n",
      "Length of X is 78\n",
      "Length of Y is 78\n",
      "mean of X is 120.07333333333332\n",
      "mean of Y is 111.905\n",
      "return value 8.168333333333322\n",
      "Length of X is 78\n",
      "Length of Y is 78\n",
      "mean of X is 120.07333333333332\n",
      "mean of Y is 111.905\n",
      "return value 8.168333333333322\n",
      "Length of X is 78\n",
      "Length of Y is 78\n",
      "mean of X is 120.07333333333332\n",
      "mean of Y is 111.905\n",
      "return value 8.168333333333322\n",
      "Length of X is 78\n",
      "Length of Y is 78\n",
      "mean of X is 120.07333333333332\n",
      "mean of Y is 111.905\n",
      "return value 8.168333333333322\n",
      "Length of X is 78\n",
      "Length of Y is 78\n",
      "mean of X is 120.07333333333332\n",
      "mean of Y is 111.905\n",
      "return value 8.168333333333322\n",
      "Length of X is 78\n",
      "Length of Y is 78\n",
      "mean of X is 120.07333333333332\n",
      "mean of Y is 111.905\n",
      "return value 8.168333333333322\n",
      "Length of X is 78\n",
      "Length of Y is 78\n",
      "mean of X is 120.07333333333332\n",
      "mean of Y is 111.905\n",
      "return value 8.168333333333322\n",
      "Length of X is 78\n",
      "Length of Y is 78\n",
      "mean of X is 120.07333333333332\n",
      "mean of Y is 111.905\n",
      "return value 8.168333333333322\n",
      "Length of X is 78\n",
      "Length of Y is 78\n",
      "mean of X is 120.07333333333332\n",
      "mean of Y is 111.905\n",
      "return value 8.168333333333322\n",
      "Length of X is 78\n",
      "Length of Y is 78\n",
      "mean of X is 120.07333333333332\n",
      "mean of Y is 111.905\n",
      "return value 8.168333333333322\n",
      "Length of X is 78\n",
      "Length of Y is 78\n",
      "mean of X is 120.07333333333332\n",
      "mean of Y is 111.905\n",
      "return value 8.168333333333322\n",
      "Length of X is 78\n",
      "Length of Y is 78\n",
      "mean of X is 120.07333333333332\n",
      "mean of Y is 111.905\n",
      "return value 8.168333333333322\n",
      "Length of X is 78\n",
      "Length of Y is 78\n",
      "mean of X is 120.07333333333332\n",
      "mean of Y is 111.905\n",
      "return value 8.168333333333322\n",
      "Length of X is 78\n",
      "Length of Y is 78\n",
      "mean of X is 120.07333333333332\n",
      "mean of Y is 111.905\n",
      "return value 8.168333333333322\n",
      "Length of X is 78\n",
      "Length of Y is 78\n",
      "mean of X is 120.07333333333332\n",
      "mean of Y is 111.905\n",
      "return value 8.168333333333322\n",
      "Length of X is 78\n",
      "Length of Y is 78\n",
      "mean of X is 120.07333333333332\n",
      "mean of Y is 111.905\n",
      "return value 8.168333333333322\n",
      "Length of X is 78\n",
      "Length of Y is 78\n",
      "mean of X is 120.07333333333332\n",
      "mean of Y is 111.905\n",
      "return value 8.168333333333322\n",
      "Length of X is 78\n",
      "Length of Y is 78\n",
      "mean of X is 120.07333333333332\n",
      "mean of Y is 111.905\n",
      "return value 8.168333333333322\n",
      "Length of X is 78\n",
      "Length of Y is 78\n",
      "mean of X is 120.07333333333332\n",
      "mean of Y is 111.905\n",
      "return value 8.168333333333322\n",
      "Length of X is 78\n",
      "Length of Y is 78\n",
      "mean of X is 120.07333333333332\n",
      "mean of Y is 111.905\n",
      "return value 8.168333333333322\n",
      "Length of X is 78\n",
      "Length of Y is 78\n",
      "mean of X is 120.07333333333332\n",
      "mean of Y is 111.905\n",
      "return value 8.168333333333322\n",
      "Length of X is 78\n",
      "Length of Y is 78\n",
      "mean of X is 120.07333333333332\n",
      "mean of Y is 111.905\n",
      "return value 8.168333333333322\n",
      "Length of X is 78\n",
      "Length of Y is 78\n",
      "mean of X is 120.07333333333332\n",
      "mean of Y is 111.905\n",
      "return value 8.168333333333322\n",
      "Length of X is 78\n",
      "Length of Y is 78\n",
      "mean of X is 120.07333333333332\n",
      "mean of Y is 111.905\n",
      "return value 8.168333333333322\n",
      "Length of X is 78\n",
      "Length of Y is 78\n",
      "mean of X is 120.07333333333332\n",
      "mean of Y is 111.905\n",
      "return value 8.168333333333322\n",
      "Length of X is 78\n",
      "Length of Y is 78\n",
      "mean of X is 120.07333333333332\n",
      "mean of Y is 111.905\n",
      "return value 8.168333333333322\n",
      "Length of X is 78\n",
      "Length of Y is 78\n",
      "mean of X is 120.07333333333332\n",
      "mean of Y is 111.905\n",
      "return value 8.168333333333322\n",
      "Length of X is 78\n",
      "Length of Y is 78\n",
      "mean of X is 120.07333333333332\n",
      "mean of Y is 111.905\n",
      "return value 8.168333333333322\n",
      "Length of X is 78\n",
      "Length of Y is 78\n",
      "mean of X is 120.07333333333332\n",
      "mean of Y is 111.905\n",
      "return value 8.168333333333322\n",
      "Length of X is 78\n",
      "Length of Y is 78\n",
      "mean of X is 120.07333333333332\n",
      "mean of Y is 111.905\n",
      "return value 8.168333333333322\n",
      "Length of X is 78\n",
      "Length of Y is 78\n",
      "mean of X is 120.07333333333332\n",
      "mean of Y is 111.905\n",
      "return value 8.168333333333322\n",
      "Length of X is 78\n",
      "Length of Y is 78\n",
      "mean of X is 120.07333333333332\n",
      "mean of Y is 111.905\n",
      "return value 8.168333333333322\n",
      "Length of X is 78\n",
      "Length of Y is 78\n",
      "mean of X is 120.07333333333332\n",
      "mean of Y is 111.905\n",
      "return value 8.168333333333322\n",
      "Length of X is 78\n",
      "Length of Y is 78\n",
      "mean of X is 120.07333333333332\n",
      "mean of Y is 111.905\n",
      "return value 8.168333333333322\n",
      "Length of X is 78\n",
      "Length of Y is 78\n",
      "mean of X is 120.07333333333332\n",
      "mean of Y is 111.905\n",
      "return value 8.168333333333322\n",
      "Length of X is 78\n",
      "Length of Y is 78\n",
      "mean of X is 120.07333333333332\n",
      "mean of Y is 111.905\n",
      "return value 8.168333333333322\n",
      "Length of X is 78\n",
      "Length of Y is 78\n",
      "mean of X is 120.07333333333332\n",
      "mean of Y is 111.905\n",
      "return value 8.168333333333322\n",
      "Length of X is 78\n",
      "Length of Y is 78\n",
      "mean of X is 120.07333333333332\n",
      "mean of Y is 111.905\n",
      "return value 8.168333333333322\n",
      "Length of X is 78\n",
      "Length of Y is 78\n",
      "mean of X is 120.07333333333332\n",
      "mean of Y is 111.905\n",
      "return value 8.168333333333322\n",
      "Length of X is 78\n",
      "Length of Y is 78\n",
      "mean of X is 120.07333333333332\n",
      "mean of Y is 111.905\n",
      "return value 8.168333333333322\n",
      "Length of X is 78\n",
      "Length of Y is 78\n",
      "mean of X is 120.07333333333332\n",
      "mean of Y is 111.905\n",
      "return value 8.168333333333322\n",
      "Length of X is 78\n",
      "Length of Y is 78\n",
      "mean of X is 120.07333333333332\n",
      "mean of Y is 111.905\n",
      "return value 8.168333333333322\n",
      "Length of X is 78\n",
      "Length of Y is 78\n",
      "mean of X is 120.07333333333332\n",
      "mean of Y is 111.905\n",
      "return value 8.168333333333322\n",
      "Length of X is 78\n",
      "Length of Y is 78\n",
      "mean of X is 120.07333333333332\n",
      "mean of Y is 111.905\n",
      "return value 8.168333333333322\n",
      "Length of X is 78\n",
      "Length of Y is 78\n",
      "mean of X is 120.07333333333332\n",
      "mean of Y is 111.905\n",
      "return value 8.168333333333322\n",
      "Length of X is 78\n",
      "Length of Y is 78\n",
      "mean of X is 120.07333333333332\n",
      "mean of Y is 111.905\n",
      "return value 8.168333333333322\n",
      "Length of X is 78\n",
      "Length of Y is 78\n",
      "mean of X is 120.07333333333332\n",
      "mean of Y is 111.905\n",
      "return value 8.168333333333322\n",
      "Length of X is 78\n",
      "Length of Y is 78\n",
      "mean of X is 120.07333333333332\n",
      "mean of Y is 111.905\n",
      "return value 8.168333333333322\n",
      "Length of X is 78\n",
      "Length of Y is 78\n",
      "mean of X is 120.07333333333332\n",
      "mean of Y is 111.905\n",
      "return value 8.168333333333322\n",
      "Length of X is 78\n",
      "Length of Y is 78\n",
      "mean of X is 120.07333333333332\n",
      "mean of Y is 111.905\n",
      "return value 8.168333333333322\n",
      "Length of X is 78\n",
      "Length of Y is 78\n",
      "mean of X is 120.07333333333332\n",
      "mean of Y is 111.905\n",
      "return value 8.168333333333322\n",
      "Length of X is 78\n",
      "Length of Y is 78\n",
      "mean of X is 120.07333333333332\n",
      "mean of Y is 111.905\n",
      "return value 8.168333333333322\n",
      "Length of X is 78\n",
      "Length of Y is 78\n",
      "mean of X is 120.07333333333332\n",
      "mean of Y is 111.905\n",
      "return value 8.168333333333322\n",
      "Length of X is 78\n",
      "Length of Y is 78\n",
      "mean of X is 120.07333333333332\n",
      "mean of Y is 111.905\n",
      "return value 8.168333333333322\n",
      "Length of X is 78\n",
      "Length of Y is 78\n",
      "mean of X is 120.07333333333332\n",
      "mean of Y is 111.905\n",
      "return value 8.168333333333322\n",
      "Length of X is 78\n",
      "Length of Y is 78\n",
      "mean of X is 120.07333333333332\n",
      "mean of Y is 111.905\n",
      "return value 8.168333333333322\n",
      "Length of X is 78\n",
      "Length of Y is 78\n",
      "mean of X is 120.07333333333332\n",
      "mean of Y is 111.905\n",
      "return value 8.168333333333322\n",
      "Length of X is 78\n",
      "Length of Y is 78\n",
      "mean of X is 120.07333333333332\n",
      "mean of Y is 111.905\n",
      "return value 8.168333333333322\n",
      "Length of X is 78\n",
      "Length of Y is 78\n",
      "mean of X is 120.07333333333332\n",
      "mean of Y is 111.905\n",
      "return value 8.168333333333322\n",
      "Length of X is 78\n",
      "Length of Y is 78\n",
      "mean of X is 120.07333333333332\n",
      "mean of Y is 111.905\n",
      "return value 8.168333333333322\n",
      "Length of X is 78\n",
      "Length of Y is 78\n",
      "mean of X is 120.07333333333332\n",
      "mean of Y is 111.905\n",
      "return value 8.168333333333322\n",
      "Length of X is 78\n",
      "Length of Y is 78\n",
      "mean of X is 120.07333333333332\n",
      "mean of Y is 111.905\n",
      "return value 8.168333333333322\n",
      "Length of X is 78\n",
      "Length of Y is 78\n",
      "mean of X is 120.07333333333332\n",
      "mean of Y is 111.905\n",
      "return value 8.168333333333322\n",
      "Length of X is 78\n",
      "Length of Y is 78\n",
      "mean of X is 120.07333333333332\n",
      "mean of Y is 111.905\n",
      "return value 8.168333333333322\n",
      "Length of X is 78\n",
      "Length of Y is 78\n",
      "mean of X is 120.07333333333332\n",
      "mean of Y is 111.905\n",
      "return value 8.168333333333322\n",
      "Length of X is 78\n",
      "Length of Y is 78\n",
      "mean of X is 120.07333333333332\n",
      "mean of Y is 111.905\n",
      "return value 8.168333333333322\n"
     ]
    }
   ],
   "source": [
    "for i in range(0 , len(df_prtf)):\n",
    "    train_df = df_prtf.sample(frac = .8, random_state = 1).sort_index()\n",
    "    train_df['alpha_hat'] = alpha_fn(train_df.X , train_df.Y)"
   ]
  },
  {
   "cell_type": "code",
   "execution_count": 113,
   "metadata": {
    "collapsed": false
   },
   "outputs": [
    {
     "data": {
      "text/plain": [
       "8.168333333333306"
      ]
     },
     "execution_count": 113,
     "metadata": {},
     "output_type": "execute_result"
    }
   ],
   "source": [
    "train_df.alpha_hat.mean()"
   ]
  },
  {
   "cell_type": "code",
   "execution_count": null,
   "metadata": {
    "collapsed": true
   },
   "outputs": [],
   "source": []
  },
  {
   "cell_type": "code",
   "execution_count": null,
   "metadata": {
    "collapsed": true
   },
   "outputs": [],
   "source": []
  },
  {
   "cell_type": "code",
   "execution_count": null,
   "metadata": {
    "collapsed": true
   },
   "outputs": [],
   "source": []
  },
  {
   "cell_type": "code",
   "execution_count": 106,
   "metadata": {
    "collapsed": false
   },
   "outputs": [
    {
     "ename": "AttributeError",
     "evalue": "'module' object has no attribute 'Bootstrap'",
     "output_type": "error",
     "traceback": [
      "\u001b[0;31m---------------------------------------------------------------------------\u001b[0m",
      "\u001b[0;31mAttributeError\u001b[0m                            Traceback (most recent call last)",
      "\u001b[0;32m<ipython-input-106-874dd9e18691>\u001b[0m in \u001b[0;36m<module>\u001b[0;34m()\u001b[0m\n\u001b[1;32m      1\u001b[0m \u001b[0;31m#Calling the Bootstrap function\u001b[0m\u001b[0;34m\u001b[0m\u001b[0;34m\u001b[0m\u001b[0m\n\u001b[1;32m      2\u001b[0m \u001b[0;32mfrom\u001b[0m \u001b[0msklearn\u001b[0m \u001b[0;32mimport\u001b[0m \u001b[0mcross_validation\u001b[0m\u001b[0;34m\u001b[0m\u001b[0m\n\u001b[0;32m----> 3\u001b[0;31m \u001b[0mbs\u001b[0m \u001b[0;34m=\u001b[0m \u001b[0mcross_validation\u001b[0m\u001b[0;34m.\u001b[0m\u001b[0mBootstrap\u001b[0m\u001b[0;34m(\u001b[0m\u001b[0;36m2\u001b[0m\u001b[0;34m,\u001b[0m \u001b[0mn_bootstraps\u001b[0m\u001b[0;34m=\u001b[0m\u001b[0;36m100\u001b[0m\u001b[0;34m,\u001b[0m \u001b[0mn_train\u001b[0m \u001b[0;34m=\u001b[0m \u001b[0;36m.75\u001b[0m\u001b[0;34m,\u001b[0m \u001b[0mn_test\u001b[0m\u001b[0;34m=\u001b[0m\u001b[0mNone\u001b[0m\u001b[0;34m,\u001b[0m \u001b[0mrandom_state\u001b[0m\u001b[0;34m=\u001b[0m\u001b[0mNone\u001b[0m\u001b[0;34m)\u001b[0m\u001b[0;34m\u001b[0m\u001b[0m\n\u001b[0m",
      "\u001b[0;31mAttributeError\u001b[0m: 'module' object has no attribute 'Bootstrap'"
     ]
    }
   ],
   "source": [
    " #Calling the Bootstrap function\n",
    "# from sklearn import cross_validation\n",
    "# bs = cross_validation.Bootstrap(2, n_bootstraps=100, n_train = .75, n_test=None, random_state=None)"
   ]
  },
  {
   "cell_type": "code",
   "execution_count": null,
   "metadata": {
    "collapsed": false
   },
   "outputs": [],
   "source": []
  },
  {
   "cell_type": "code",
   "execution_count": null,
   "metadata": {
    "collapsed": true
   },
   "outputs": [],
   "source": []
  },
  {
   "cell_type": "code",
   "execution_count": null,
   "metadata": {
    "collapsed": true
   },
   "outputs": [],
   "source": []
  },
  {
   "cell_type": "code",
   "execution_count": null,
   "metadata": {
    "collapsed": true
   },
   "outputs": [],
   "source": []
  },
  {
   "cell_type": "code",
   "execution_count": null,
   "metadata": {
    "collapsed": true
   },
   "outputs": [],
   "source": []
  }
 ],
 "metadata": {
  "kernelspec": {
   "display_name": "Python 2",
   "language": "python",
   "name": "python2"
  },
  "language_info": {
   "codemirror_mode": {
    "name": "ipython",
    "version": 2
   },
   "file_extension": ".py",
   "mimetype": "text/x-python",
   "name": "python",
   "nbconvert_exporter": "python",
   "pygments_lexer": "ipython2",
   "version": "2.7.11"
  }
 },
 "nbformat": 4,
 "nbformat_minor": 0
}
